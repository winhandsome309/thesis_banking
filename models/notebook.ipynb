{
 "cells": [
  {
   "cell_type": "markdown",
   "id": "d00c4931-b17e-4c6b-99bc-d4a949fd7ca9",
   "metadata": {
    "tags": []
   },
   "source": [
    "# Loan Data"
   ]
  },
  {
   "cell_type": "markdown",
   "id": "5e7e3087-0cd3-493c-857b-27237eac24f5",
   "metadata": {},
   "source": [
    "## Context\n",
    "This dataset ([source](https://www.kaggle.com/itssuru/loan-data)) consists of data from almost 10,000 borrowers that took loans - with some paid back and others still in progress. It was extracted from lendingclub.com which is an organization that connects borrowers with investors. We've included a few suggested questions at the end of this template to help you get started."
   ]
  },
  {
   "cell_type": "code",
   "execution_count": 118,
   "id": "7487ad8a-0bbd-4231-a899-0d0881195eed",
   "metadata": {},
   "outputs": [],
   "source": [
    "%%capture\n",
    "pip install imblearn"
   ]
  },
  {
   "cell_type": "code",
   "execution_count": 119,
   "id": "5c86edfc-274d-4cdb-bd97-897bb4b326af",
   "metadata": {},
   "outputs": [],
   "source": [
    "%%capture\n",
    "# Load packages\n",
    "# Import\n",
    "import numpy as np\n",
    "import pandas as pd\n",
    "from sklearn.preprocessing import StandardScaler\n",
    "from timeit import default_timer as timer\n",
    "import time\n",
    "\n",
    "# Plot\n",
    "import matplotlib.pyplot as plt\n",
    "import seaborn as sns\n",
    "from sklearn.manifold import TSNE\n",
    "from sklearn.svm import SVR\n",
    "from sklearn.feature_selection import RFE\n",
    "from sklearn.feature_selection import RFECV\n",
    "from sklearn.model_selection import train_test_split\n",
    "from sklearn.linear_model import LogisticRegression\n",
    "from sklearn.svm import SVC\n",
    "from sklearn.ensemble import RandomForestClassifier\n",
    "from sklearn.ensemble import GradientBoostingClassifier\n",
    "from sklearn.model_selection import GridSearchCV\n",
    "# from sklearn.inspection import plot_partial_dependence\n",
    "from sklearn.metrics import confusion_matrix, accuracy_score, precision_score, recall_score, f1_score, roc_auc_score, roc_curve, classification_report, precision_recall_curve\n",
    "from sklearn.model_selection import cross_val_score, GridSearchCV, train_test_split, KFold\n",
    "from sklearn.decomposition import PCA\n",
    "from sklearn.decomposition import TruncatedSVD\n",
    "\n",
    "from sklearn.utils import resample,shuffle\n",
    "# Import necessary modules\n",
    "from sklearn.metrics import classification_report\n",
    "from sklearn.metrics import confusion_matrix\n",
    "from sklearn.metrics import roc_curve\n",
    "\n",
    "from imblearn.pipeline import Pipeline, make_pipeline\n",
    "from imblearn.over_sampling import SMOTE\n",
    "\n",
    "# Import modules for storing model\n",
    "from joblib import Parallel, delayed \n",
    "import joblib\n",
    "\n",
    "# Others\n",
    "%matplotlib inline\n",
    "\n",
    "import warnings\n",
    "warnings.filterwarnings('ignore')\n",
    "\n",
    "cmap=sns.color_palette('Blues_r')"
   ]
  },
  {
   "cell_type": "markdown",
   "id": "1d9d5c80-4ecf-4f36-81e7-97c9b89d7ce1",
   "metadata": {},
   "source": [
    "## Load your data"
   ]
  },
  {
   "cell_type": "code",
   "execution_count": 120,
   "id": "b57a78ab-6acb-4d5f-b3df-330ff9c08dda",
   "metadata": {
    "outputsMetadata": {
     "0": {
      "height": 76,
      "type": "stream"
     }
    }
   },
   "outputs": [
    {
     "name": "stdout",
     "output_type": "stream",
     "text": [
      "Number of rows/records: 9578\n",
      "Number of columns/variables: 14\n"
     ]
    },
    {
     "data": {
      "text/html": [
       "<div>\n",
       "<style scoped>\n",
       "    .dataframe tbody tr th:only-of-type {\n",
       "        vertical-align: middle;\n",
       "    }\n",
       "\n",
       "    .dataframe tbody tr th {\n",
       "        vertical-align: top;\n",
       "    }\n",
       "\n",
       "    .dataframe thead th {\n",
       "        text-align: right;\n",
       "    }\n",
       "</style>\n",
       "<table border=\"1\" class=\"dataframe\">\n",
       "  <thead>\n",
       "    <tr style=\"text-align: right;\">\n",
       "      <th></th>\n",
       "      <th>credit_policy</th>\n",
       "      <th>purpose</th>\n",
       "      <th>int_rate</th>\n",
       "      <th>installment</th>\n",
       "      <th>log_annual_inc</th>\n",
       "      <th>dti</th>\n",
       "      <th>fico</th>\n",
       "      <th>days_with_cr_line</th>\n",
       "      <th>revol_bal</th>\n",
       "      <th>revol_util</th>\n",
       "      <th>inq_last_6mths</th>\n",
       "      <th>delinq_2yrs</th>\n",
       "      <th>pub_rec</th>\n",
       "      <th>not_fully_paid</th>\n",
       "    </tr>\n",
       "  </thead>\n",
       "  <tbody>\n",
       "    <tr>\n",
       "      <th>0</th>\n",
       "      <td>1</td>\n",
       "      <td>debt_consolidation</td>\n",
       "      <td>0.1189</td>\n",
       "      <td>829.10</td>\n",
       "      <td>11.350407</td>\n",
       "      <td>19.48</td>\n",
       "      <td>737</td>\n",
       "      <td>5639.958333</td>\n",
       "      <td>28854</td>\n",
       "      <td>52.1</td>\n",
       "      <td>0</td>\n",
       "      <td>0</td>\n",
       "      <td>0</td>\n",
       "      <td>0</td>\n",
       "    </tr>\n",
       "    <tr>\n",
       "      <th>1</th>\n",
       "      <td>1</td>\n",
       "      <td>credit_card</td>\n",
       "      <td>0.1071</td>\n",
       "      <td>228.22</td>\n",
       "      <td>11.082143</td>\n",
       "      <td>14.29</td>\n",
       "      <td>707</td>\n",
       "      <td>2760.000000</td>\n",
       "      <td>33623</td>\n",
       "      <td>76.7</td>\n",
       "      <td>0</td>\n",
       "      <td>0</td>\n",
       "      <td>0</td>\n",
       "      <td>0</td>\n",
       "    </tr>\n",
       "    <tr>\n",
       "      <th>2</th>\n",
       "      <td>1</td>\n",
       "      <td>debt_consolidation</td>\n",
       "      <td>0.1357</td>\n",
       "      <td>366.86</td>\n",
       "      <td>10.373491</td>\n",
       "      <td>11.63</td>\n",
       "      <td>682</td>\n",
       "      <td>4710.000000</td>\n",
       "      <td>3511</td>\n",
       "      <td>25.6</td>\n",
       "      <td>1</td>\n",
       "      <td>0</td>\n",
       "      <td>0</td>\n",
       "      <td>0</td>\n",
       "    </tr>\n",
       "    <tr>\n",
       "      <th>3</th>\n",
       "      <td>1</td>\n",
       "      <td>debt_consolidation</td>\n",
       "      <td>0.1008</td>\n",
       "      <td>162.34</td>\n",
       "      <td>11.350407</td>\n",
       "      <td>8.10</td>\n",
       "      <td>712</td>\n",
       "      <td>2699.958333</td>\n",
       "      <td>33667</td>\n",
       "      <td>73.2</td>\n",
       "      <td>1</td>\n",
       "      <td>0</td>\n",
       "      <td>0</td>\n",
       "      <td>0</td>\n",
       "    </tr>\n",
       "    <tr>\n",
       "      <th>4</th>\n",
       "      <td>1</td>\n",
       "      <td>credit_card</td>\n",
       "      <td>0.1426</td>\n",
       "      <td>102.92</td>\n",
       "      <td>11.299732</td>\n",
       "      <td>14.97</td>\n",
       "      <td>667</td>\n",
       "      <td>4066.000000</td>\n",
       "      <td>4740</td>\n",
       "      <td>39.5</td>\n",
       "      <td>0</td>\n",
       "      <td>1</td>\n",
       "      <td>0</td>\n",
       "      <td>0</td>\n",
       "    </tr>\n",
       "  </tbody>\n",
       "</table>\n",
       "</div>"
      ],
      "text/plain": [
       "   credit_policy             purpose  int_rate  installment  log_annual_inc  \\\n",
       "0              1  debt_consolidation    0.1189       829.10       11.350407   \n",
       "1              1         credit_card    0.1071       228.22       11.082143   \n",
       "2              1  debt_consolidation    0.1357       366.86       10.373491   \n",
       "3              1  debt_consolidation    0.1008       162.34       11.350407   \n",
       "4              1         credit_card    0.1426       102.92       11.299732   \n",
       "\n",
       "     dti  fico  days_with_cr_line  revol_bal  revol_util  inq_last_6mths  \\\n",
       "0  19.48   737        5639.958333      28854        52.1               0   \n",
       "1  14.29   707        2760.000000      33623        76.7               0   \n",
       "2  11.63   682        4710.000000       3511        25.6               1   \n",
       "3   8.10   712        2699.958333      33667        73.2               1   \n",
       "4  14.97   667        4066.000000       4740        39.5               0   \n",
       "\n",
       "   delinq_2yrs  pub_rec  not_fully_paid  \n",
       "0            0        0               0  \n",
       "1            0        0               0  \n",
       "2            0        0               0  \n",
       "3            0        0               0  \n",
       "4            1        0               0  "
      ]
     },
     "execution_count": 120,
     "metadata": {},
     "output_type": "execute_result"
    }
   ],
   "source": [
    "# Load data from the csv file\n",
    "df = pd.read_csv('history_loan_data.csv', index_col=None)\n",
    "\n",
    "# Change the dots in the column names to underscores\n",
    "df.columns = [c.replace(\".\", \"_\") for c in df.columns]\n",
    "print(f\"Number of rows/records: {df.shape[0]}\")\n",
    "print(f\"Number of columns/variables: {df.shape[1]}\")\n",
    "df.head()"
   ]
  },
  {
   "cell_type": "markdown",
   "id": "258e9630-4a42-48ba-9c5f-68f2efd3ed38",
   "metadata": {},
   "source": [
    "---- "
   ]
  },
  {
   "cell_type": "markdown",
   "id": "f78de30e-1784-469d-ac0c-ef0443030157",
   "metadata": {},
   "source": [
    "### 1. Executive summary   \n",
    "According to a research by BCG, data analytics has been credited as 1 of the biggest drivers behind digital lending. The availability of data coupled with favorable regulatory environment is projected to enable nearly $1 trillion worth of digital loans to be disbursed in India alone in the next 5 years. For a digital lender to be competitive in the market, it must own the appropriate model to make lending decisions. Thus, based on the dataset which contains client credit record and loan history, we propose a model to predict the chances of a non-full payment from the client's loan. We first created a simple logistic regression model using features selected with RFE (and Random Forest and Gradient boosting as the underlying models). However, recall was low at 2% using this approach. Next, ‘stratified k-fold cross validation with SMOTE’ was applied during the model training to overcome issues with an imbalanced class.  Hyper-params were also fine-tuned using GridSearchCV. Recall then improved significantly to 61.2%. As a next step, we recommend researching more complex models like neural network to further improve the model and reduce the credit risk of the lender.\n"
   ]
  },
  {
   "cell_type": "markdown",
   "id": "8f940c0e-37c9-4279-a205-d41ac1a67c69",
   "metadata": {},
   "source": [
    "### 2. Business Problem and motivation  \n",
    "\n",
    "For a digital lender to be profitable, it must not only have data strategy to acquire the data necessary for credit modelling, more importantly, such lenders must possess analytics models which allow it to make both lending decisions and monitor the financial health of its clients. In this report, we will attempt to create a model for digital lenders to make lending decisions based on the client data it has acquired. (McKinsey, 2021)\n",
    "\n",
    "Our hypothesis is that based on the client's loan history and credit records, the lender will be able to predict the chances of a non-full payment from the client's loan. Such a predict can be further improved by perform vigorous feature selection using the RFE method with an ensemble model. In addition, by further fine tuning the model (by hyper-param tunning, SMOTE, k-fold cross validation), we can further improve the Recall of the model.  \n"
   ]
  },
  {
   "cell_type": "markdown",
   "id": "e34ce726-c868-44cf-a484-062960c98908",
   "metadata": {},
   "source": [
    "### 3. Exploratory data analysis   \n",
    "We first check for missing values in the dataset and noticed there is none."
   ]
  },
  {
   "cell_type": "code",
   "execution_count": 121,
   "id": "a07e8806-4958-47e2-a780-38ece985d9a1",
   "metadata": {},
   "outputs": [
    {
     "data": {
      "text/html": [
       "<div>\n",
       "<style scoped>\n",
       "    .dataframe tbody tr th:only-of-type {\n",
       "        vertical-align: middle;\n",
       "    }\n",
       "\n",
       "    .dataframe tbody tr th {\n",
       "        vertical-align: top;\n",
       "    }\n",
       "\n",
       "    .dataframe thead th {\n",
       "        text-align: right;\n",
       "    }\n",
       "</style>\n",
       "<table border=\"1\" class=\"dataframe\">\n",
       "  <thead>\n",
       "    <tr style=\"text-align: right;\">\n",
       "      <th></th>\n",
       "      <th>credit_policy</th>\n",
       "      <th>purpose</th>\n",
       "      <th>int_rate</th>\n",
       "      <th>installment</th>\n",
       "      <th>log_annual_inc</th>\n",
       "      <th>dti</th>\n",
       "      <th>fico</th>\n",
       "      <th>days_with_cr_line</th>\n",
       "      <th>revol_bal</th>\n",
       "      <th>revol_util</th>\n",
       "      <th>inq_last_6mths</th>\n",
       "      <th>delinq_2yrs</th>\n",
       "      <th>pub_rec</th>\n",
       "      <th>not_fully_paid</th>\n",
       "    </tr>\n",
       "  </thead>\n",
       "  <tbody>\n",
       "    <tr>\n",
       "      <th>4247</th>\n",
       "      <td>1</td>\n",
       "      <td>major_purchase</td>\n",
       "      <td>0.0774</td>\n",
       "      <td>156.10</td>\n",
       "      <td>10.584056</td>\n",
       "      <td>10.27</td>\n",
       "      <td>797</td>\n",
       "      <td>5490.000000</td>\n",
       "      <td>2629</td>\n",
       "      <td>8.8</td>\n",
       "      <td>2</td>\n",
       "      <td>0</td>\n",
       "      <td>0</td>\n",
       "      <td>0</td>\n",
       "    </tr>\n",
       "    <tr>\n",
       "      <th>8766</th>\n",
       "      <td>0</td>\n",
       "      <td>all_other</td>\n",
       "      <td>0.1064</td>\n",
       "      <td>50.49</td>\n",
       "      <td>10.308953</td>\n",
       "      <td>15.60</td>\n",
       "      <td>697</td>\n",
       "      <td>6389.958333</td>\n",
       "      <td>1085</td>\n",
       "      <td>11.4</td>\n",
       "      <td>11</td>\n",
       "      <td>1</td>\n",
       "      <td>0</td>\n",
       "      <td>0</td>\n",
       "    </tr>\n",
       "    <tr>\n",
       "      <th>1509</th>\n",
       "      <td>1</td>\n",
       "      <td>debt_consolidation</td>\n",
       "      <td>0.1399</td>\n",
       "      <td>854.32</td>\n",
       "      <td>11.695247</td>\n",
       "      <td>19.76</td>\n",
       "      <td>692</td>\n",
       "      <td>3780.041667</td>\n",
       "      <td>41077</td>\n",
       "      <td>60.0</td>\n",
       "      <td>0</td>\n",
       "      <td>1</td>\n",
       "      <td>0</td>\n",
       "      <td>0</td>\n",
       "    </tr>\n",
       "    <tr>\n",
       "      <th>6120</th>\n",
       "      <td>1</td>\n",
       "      <td>debt_consolidation</td>\n",
       "      <td>0.1218</td>\n",
       "      <td>807.53</td>\n",
       "      <td>10.907386</td>\n",
       "      <td>17.41</td>\n",
       "      <td>737</td>\n",
       "      <td>4111.041667</td>\n",
       "      <td>28559</td>\n",
       "      <td>73.2</td>\n",
       "      <td>0</td>\n",
       "      <td>0</td>\n",
       "      <td>0</td>\n",
       "      <td>1</td>\n",
       "    </tr>\n",
       "    <tr>\n",
       "      <th>1069</th>\n",
       "      <td>1</td>\n",
       "      <td>debt_consolidation</td>\n",
       "      <td>0.1071</td>\n",
       "      <td>244.52</td>\n",
       "      <td>11.289682</td>\n",
       "      <td>13.02</td>\n",
       "      <td>702</td>\n",
       "      <td>3479.958333</td>\n",
       "      <td>8709</td>\n",
       "      <td>30.1</td>\n",
       "      <td>3</td>\n",
       "      <td>0</td>\n",
       "      <td>0</td>\n",
       "      <td>0</td>\n",
       "    </tr>\n",
       "  </tbody>\n",
       "</table>\n",
       "</div>"
      ],
      "text/plain": [
       "      credit_policy             purpose  int_rate  installment  \\\n",
       "4247              1      major_purchase    0.0774       156.10   \n",
       "8766              0           all_other    0.1064        50.49   \n",
       "1509              1  debt_consolidation    0.1399       854.32   \n",
       "6120              1  debt_consolidation    0.1218       807.53   \n",
       "1069              1  debt_consolidation    0.1071       244.52   \n",
       "\n",
       "      log_annual_inc    dti  fico  days_with_cr_line  revol_bal  revol_util  \\\n",
       "4247       10.584056  10.27   797        5490.000000       2629         8.8   \n",
       "8766       10.308953  15.60   697        6389.958333       1085        11.4   \n",
       "1509       11.695247  19.76   692        3780.041667      41077        60.0   \n",
       "6120       10.907386  17.41   737        4111.041667      28559        73.2   \n",
       "1069       11.289682  13.02   702        3479.958333       8709        30.1   \n",
       "\n",
       "      inq_last_6mths  delinq_2yrs  pub_rec  not_fully_paid  \n",
       "4247               2            0        0               0  \n",
       "8766              11            1        0               0  \n",
       "1509               0            1        0               0  \n",
       "6120               0            0        0               1  \n",
       "1069               3            0        0               0  "
      ]
     },
     "execution_count": 121,
     "metadata": {},
     "output_type": "execute_result"
    }
   ],
   "source": [
    "# Create train and test sets\n",
    "train, test = train_test_split(df, test_size=0.2, random_state=0)\n",
    "train, valid = train_test_split(df, test_size=0.2, random_state=0)\n",
    "train.head()"
   ]
  },
  {
   "cell_type": "code",
   "execution_count": 122,
   "id": "5064b18b-cc25-4fe9-a8f7-6c4b67172bd6",
   "metadata": {},
   "outputs": [
    {
     "data": {
      "text/html": [
       "<div>\n",
       "<style scoped>\n",
       "    .dataframe tbody tr th:only-of-type {\n",
       "        vertical-align: middle;\n",
       "    }\n",
       "\n",
       "    .dataframe tbody tr th {\n",
       "        vertical-align: top;\n",
       "    }\n",
       "\n",
       "    .dataframe thead th {\n",
       "        text-align: right;\n",
       "    }\n",
       "</style>\n",
       "<table border=\"1\" class=\"dataframe\">\n",
       "  <thead>\n",
       "    <tr style=\"text-align: right;\">\n",
       "      <th></th>\n",
       "      <th>credit_policy</th>\n",
       "      <th>purpose</th>\n",
       "      <th>int_rate</th>\n",
       "      <th>installment</th>\n",
       "      <th>log_annual_inc</th>\n",
       "      <th>dti</th>\n",
       "      <th>fico</th>\n",
       "      <th>days_with_cr_line</th>\n",
       "      <th>revol_bal</th>\n",
       "      <th>revol_util</th>\n",
       "      <th>inq_last_6mths</th>\n",
       "      <th>delinq_2yrs</th>\n",
       "      <th>pub_rec</th>\n",
       "    </tr>\n",
       "  </thead>\n",
       "  <tbody>\n",
       "    <tr>\n",
       "      <th>4247</th>\n",
       "      <td>1</td>\n",
       "      <td>major_purchase</td>\n",
       "      <td>0.0774</td>\n",
       "      <td>156.10</td>\n",
       "      <td>10.584056</td>\n",
       "      <td>10.27</td>\n",
       "      <td>797</td>\n",
       "      <td>5490.000000</td>\n",
       "      <td>2629</td>\n",
       "      <td>8.8</td>\n",
       "      <td>2</td>\n",
       "      <td>0</td>\n",
       "      <td>0</td>\n",
       "    </tr>\n",
       "    <tr>\n",
       "      <th>8766</th>\n",
       "      <td>0</td>\n",
       "      <td>all_other</td>\n",
       "      <td>0.1064</td>\n",
       "      <td>50.49</td>\n",
       "      <td>10.308953</td>\n",
       "      <td>15.60</td>\n",
       "      <td>697</td>\n",
       "      <td>6389.958333</td>\n",
       "      <td>1085</td>\n",
       "      <td>11.4</td>\n",
       "      <td>11</td>\n",
       "      <td>1</td>\n",
       "      <td>0</td>\n",
       "    </tr>\n",
       "    <tr>\n",
       "      <th>1509</th>\n",
       "      <td>1</td>\n",
       "      <td>debt_consolidation</td>\n",
       "      <td>0.1399</td>\n",
       "      <td>854.32</td>\n",
       "      <td>11.695247</td>\n",
       "      <td>19.76</td>\n",
       "      <td>692</td>\n",
       "      <td>3780.041667</td>\n",
       "      <td>41077</td>\n",
       "      <td>60.0</td>\n",
       "      <td>0</td>\n",
       "      <td>1</td>\n",
       "      <td>0</td>\n",
       "    </tr>\n",
       "    <tr>\n",
       "      <th>6120</th>\n",
       "      <td>1</td>\n",
       "      <td>debt_consolidation</td>\n",
       "      <td>0.1218</td>\n",
       "      <td>807.53</td>\n",
       "      <td>10.907386</td>\n",
       "      <td>17.41</td>\n",
       "      <td>737</td>\n",
       "      <td>4111.041667</td>\n",
       "      <td>28559</td>\n",
       "      <td>73.2</td>\n",
       "      <td>0</td>\n",
       "      <td>0</td>\n",
       "      <td>0</td>\n",
       "    </tr>\n",
       "    <tr>\n",
       "      <th>1069</th>\n",
       "      <td>1</td>\n",
       "      <td>debt_consolidation</td>\n",
       "      <td>0.1071</td>\n",
       "      <td>244.52</td>\n",
       "      <td>11.289682</td>\n",
       "      <td>13.02</td>\n",
       "      <td>702</td>\n",
       "      <td>3479.958333</td>\n",
       "      <td>8709</td>\n",
       "      <td>30.1</td>\n",
       "      <td>3</td>\n",
       "      <td>0</td>\n",
       "      <td>0</td>\n",
       "    </tr>\n",
       "  </tbody>\n",
       "</table>\n",
       "</div>"
      ],
      "text/plain": [
       "      credit_policy             purpose  int_rate  installment  \\\n",
       "4247              1      major_purchase    0.0774       156.10   \n",
       "8766              0           all_other    0.1064        50.49   \n",
       "1509              1  debt_consolidation    0.1399       854.32   \n",
       "6120              1  debt_consolidation    0.1218       807.53   \n",
       "1069              1  debt_consolidation    0.1071       244.52   \n",
       "\n",
       "      log_annual_inc    dti  fico  days_with_cr_line  revol_bal  revol_util  \\\n",
       "4247       10.584056  10.27   797        5490.000000       2629         8.8   \n",
       "8766       10.308953  15.60   697        6389.958333       1085        11.4   \n",
       "1509       11.695247  19.76   692        3780.041667      41077        60.0   \n",
       "6120       10.907386  17.41   737        4111.041667      28559        73.2   \n",
       "1069       11.289682  13.02   702        3479.958333       8709        30.1   \n",
       "\n",
       "      inq_last_6mths  delinq_2yrs  pub_rec  \n",
       "4247               2            0        0  \n",
       "8766              11            1        0  \n",
       "1509               0            1        0  \n",
       "6120               0            0        0  \n",
       "1069               3            0        0  "
      ]
     },
     "execution_count": 122,
     "metadata": {},
     "output_type": "execute_result"
    }
   ],
   "source": [
    "# Train: X and y split\n",
    "X_train = train.drop('not_fully_paid', axis=1)\n",
    "y_train = train[['not_fully_paid']]\n",
    "X_train.head()"
   ]
  },
  {
   "cell_type": "code",
   "execution_count": 6,
   "id": "ba5f2ead-7483-40d1-9e74-751188da65eb",
   "metadata": {},
   "outputs": [
    {
     "data": {
      "text/html": [
       "<div>\n",
       "<style scoped>\n",
       "    .dataframe tbody tr th:only-of-type {\n",
       "        vertical-align: middle;\n",
       "    }\n",
       "\n",
       "    .dataframe tbody tr th {\n",
       "        vertical-align: top;\n",
       "    }\n",
       "\n",
       "    .dataframe thead th {\n",
       "        text-align: right;\n",
       "    }\n",
       "</style>\n",
       "<table border=\"1\" class=\"dataframe\">\n",
       "  <thead>\n",
       "    <tr style=\"text-align: right;\">\n",
       "      <th></th>\n",
       "      <th>not_fully_paid</th>\n",
       "    </tr>\n",
       "  </thead>\n",
       "  <tbody>\n",
       "    <tr>\n",
       "      <th>4</th>\n",
       "      <td>0</td>\n",
       "    </tr>\n",
       "    <tr>\n",
       "      <th>9</th>\n",
       "      <td>0</td>\n",
       "    </tr>\n",
       "    <tr>\n",
       "      <th>1</th>\n",
       "      <td>0</td>\n",
       "    </tr>\n",
       "    <tr>\n",
       "      <th>6</th>\n",
       "      <td>1</td>\n",
       "    </tr>\n",
       "    <tr>\n",
       "      <th>7</th>\n",
       "      <td>1</td>\n",
       "    </tr>\n",
       "  </tbody>\n",
       "</table>\n",
       "</div>"
      ],
      "text/plain": [
       "   not_fully_paid\n",
       "4               0\n",
       "9               0\n",
       "1               0\n",
       "6               1\n",
       "7               1"
      ]
     },
     "execution_count": 6,
     "metadata": {},
     "output_type": "execute_result"
    }
   ],
   "source": [
    "y_train.head()"
   ]
  },
  {
   "cell_type": "code",
   "execution_count": 123,
   "id": "68488172-b568-4530-b04b-353821c8dd22",
   "metadata": {},
   "outputs": [
    {
     "data": {
      "text/html": [
       "<div>\n",
       "<style scoped>\n",
       "    .dataframe tbody tr th:only-of-type {\n",
       "        vertical-align: middle;\n",
       "    }\n",
       "\n",
       "    .dataframe tbody tr th {\n",
       "        vertical-align: top;\n",
       "    }\n",
       "\n",
       "    .dataframe thead th {\n",
       "        text-align: right;\n",
       "    }\n",
       "</style>\n",
       "<table border=\"1\" class=\"dataframe\">\n",
       "  <thead>\n",
       "    <tr style=\"text-align: right;\">\n",
       "      <th></th>\n",
       "      <th>credit_policy</th>\n",
       "      <th>purpose</th>\n",
       "      <th>int_rate</th>\n",
       "      <th>installment</th>\n",
       "      <th>log_annual_inc</th>\n",
       "      <th>dti</th>\n",
       "      <th>fico</th>\n",
       "      <th>days_with_cr_line</th>\n",
       "      <th>revol_bal</th>\n",
       "      <th>revol_util</th>\n",
       "      <th>inq_last_6mths</th>\n",
       "      <th>delinq_2yrs</th>\n",
       "      <th>pub_rec</th>\n",
       "    </tr>\n",
       "  </thead>\n",
       "  <tbody>\n",
       "    <tr>\n",
       "      <th>3343</th>\n",
       "      <td>1</td>\n",
       "      <td>all_other</td>\n",
       "      <td>0.1189</td>\n",
       "      <td>49.75</td>\n",
       "      <td>10.829729</td>\n",
       "      <td>16.87</td>\n",
       "      <td>687</td>\n",
       "      <td>2314.958333</td>\n",
       "      <td>962</td>\n",
       "      <td>64.1</td>\n",
       "      <td>0</td>\n",
       "      <td>0</td>\n",
       "      <td>0</td>\n",
       "    </tr>\n",
       "    <tr>\n",
       "      <th>9</th>\n",
       "      <td>1</td>\n",
       "      <td>debt_consolidation</td>\n",
       "      <td>0.1221</td>\n",
       "      <td>84.12</td>\n",
       "      <td>10.203592</td>\n",
       "      <td>10.00</td>\n",
       "      <td>707</td>\n",
       "      <td>2730.041667</td>\n",
       "      <td>5630</td>\n",
       "      <td>23.0</td>\n",
       "      <td>1</td>\n",
       "      <td>0</td>\n",
       "      <td>0</td>\n",
       "    </tr>\n",
       "    <tr>\n",
       "      <th>1741</th>\n",
       "      <td>1</td>\n",
       "      <td>debt_consolidation</td>\n",
       "      <td>0.1695</td>\n",
       "      <td>712.54</td>\n",
       "      <td>11.918391</td>\n",
       "      <td>13.61</td>\n",
       "      <td>672</td>\n",
       "      <td>4830.041667</td>\n",
       "      <td>16473</td>\n",
       "      <td>94.1</td>\n",
       "      <td>2</td>\n",
       "      <td>2</td>\n",
       "      <td>0</td>\n",
       "    </tr>\n",
       "    <tr>\n",
       "      <th>5160</th>\n",
       "      <td>1</td>\n",
       "      <td>debt_consolidation</td>\n",
       "      <td>0.1739</td>\n",
       "      <td>286.78</td>\n",
       "      <td>11.189962</td>\n",
       "      <td>19.59</td>\n",
       "      <td>667</td>\n",
       "      <td>7020.000000</td>\n",
       "      <td>19892</td>\n",
       "      <td>67.0</td>\n",
       "      <td>1</td>\n",
       "      <td>0</td>\n",
       "      <td>1</td>\n",
       "    </tr>\n",
       "    <tr>\n",
       "      <th>7760</th>\n",
       "      <td>0</td>\n",
       "      <td>credit_card</td>\n",
       "      <td>0.1312</td>\n",
       "      <td>202.51</td>\n",
       "      <td>9.392662</td>\n",
       "      <td>4.40</td>\n",
       "      <td>657</td>\n",
       "      <td>898.958333</td>\n",
       "      <td>5251</td>\n",
       "      <td>49.3</td>\n",
       "      <td>9</td>\n",
       "      <td>0</td>\n",
       "      <td>0</td>\n",
       "    </tr>\n",
       "  </tbody>\n",
       "</table>\n",
       "</div>"
      ],
      "text/plain": [
       "      credit_policy             purpose  int_rate  installment  \\\n",
       "3343              1           all_other    0.1189        49.75   \n",
       "9                 1  debt_consolidation    0.1221        84.12   \n",
       "1741              1  debt_consolidation    0.1695       712.54   \n",
       "5160              1  debt_consolidation    0.1739       286.78   \n",
       "7760              0         credit_card    0.1312       202.51   \n",
       "\n",
       "      log_annual_inc    dti  fico  days_with_cr_line  revol_bal  revol_util  \\\n",
       "3343       10.829729  16.87   687        2314.958333        962        64.1   \n",
       "9          10.203592  10.00   707        2730.041667       5630        23.0   \n",
       "1741       11.918391  13.61   672        4830.041667      16473        94.1   \n",
       "5160       11.189962  19.59   667        7020.000000      19892        67.0   \n",
       "7760        9.392662   4.40   657         898.958333       5251        49.3   \n",
       "\n",
       "      inq_last_6mths  delinq_2yrs  pub_rec  \n",
       "3343               0            0        0  \n",
       "9                  1            0        0  \n",
       "1741               2            2        0  \n",
       "5160               1            0        1  \n",
       "7760               9            0        0  "
      ]
     },
     "execution_count": 123,
     "metadata": {},
     "output_type": "execute_result"
    }
   ],
   "source": [
    "# Train: X and y split\n",
    "X_test = test.drop('not_fully_paid', axis=1)\n",
    "y_test = test[['not_fully_paid']]\n",
    "X_test.head()"
   ]
  },
  {
   "cell_type": "code",
   "execution_count": 8,
   "id": "567d5900-73ce-4a32-ad1f-6be12ea3417e",
   "metadata": {},
   "outputs": [
    {
     "data": {
      "text/html": [
       "<div>\n",
       "<style scoped>\n",
       "    .dataframe tbody tr th:only-of-type {\n",
       "        vertical-align: middle;\n",
       "    }\n",
       "\n",
       "    .dataframe tbody tr th {\n",
       "        vertical-align: top;\n",
       "    }\n",
       "\n",
       "    .dataframe thead th {\n",
       "        text-align: right;\n",
       "    }\n",
       "</style>\n",
       "<table border=\"1\" class=\"dataframe\">\n",
       "  <thead>\n",
       "    <tr style=\"text-align: right;\">\n",
       "      <th></th>\n",
       "      <th>credit_policy</th>\n",
       "      <th>purpose</th>\n",
       "      <th>int_rate</th>\n",
       "      <th>installment</th>\n",
       "      <th>log_annual_inc</th>\n",
       "      <th>dti</th>\n",
       "      <th>fico</th>\n",
       "      <th>days_with_cr_line</th>\n",
       "      <th>revol_bal</th>\n",
       "      <th>revol_util</th>\n",
       "      <th>inq_last_6mths</th>\n",
       "      <th>delinq_2yrs</th>\n",
       "      <th>pub_rec</th>\n",
       "      <th>predict</th>\n",
       "    </tr>\n",
       "  </thead>\n",
       "  <tbody>\n",
       "    <tr>\n",
       "      <th>2</th>\n",
       "      <td>1</td>\n",
       "      <td>debt_consolidation</td>\n",
       "      <td>0.1357</td>\n",
       "      <td>366.86</td>\n",
       "      <td>10.373491</td>\n",
       "      <td>11.63</td>\n",
       "      <td>682</td>\n",
       "      <td>4710.0</td>\n",
       "      <td>3511</td>\n",
       "      <td>25.6</td>\n",
       "      <td>1</td>\n",
       "      <td>0</td>\n",
       "      <td>0</td>\n",
       "      <td>80</td>\n",
       "    </tr>\n",
       "    <tr>\n",
       "      <th>8</th>\n",
       "      <td>1</td>\n",
       "      <td>home_improvement</td>\n",
       "      <td>0.1134</td>\n",
       "      <td>87.19</td>\n",
       "      <td>11.407565</td>\n",
       "      <td>17.25</td>\n",
       "      <td>682</td>\n",
       "      <td>3989.0</td>\n",
       "      <td>69909</td>\n",
       "      <td>51.1</td>\n",
       "      <td>1</td>\n",
       "      <td>0</td>\n",
       "      <td>0</td>\n",
       "      <td>40</td>\n",
       "    </tr>\n",
       "  </tbody>\n",
       "</table>\n",
       "</div>"
      ],
      "text/plain": [
       "   credit_policy             purpose  int_rate  installment  log_annual_inc  \\\n",
       "2              1  debt_consolidation    0.1357       366.86       10.373491   \n",
       "8              1    home_improvement    0.1134        87.19       11.407565   \n",
       "\n",
       "     dti  fico  days_with_cr_line  revol_bal  revol_util  inq_last_6mths  \\\n",
       "2  11.63   682             4710.0       3511        25.6               1   \n",
       "8  17.25   682             3989.0      69909        51.1               1   \n",
       "\n",
       "   delinq_2yrs  pub_rec  predict  \n",
       "2            0        0       80  \n",
       "8            0        0       40  "
      ]
     },
     "execution_count": 8,
     "metadata": {},
     "output_type": "execute_result"
    }
   ],
   "source": [
    "# Train: X and y split\n",
    "X_valid = valid.drop('not_fully_paid', axis=1)\n",
    "y_valid = test[['not_fully_paid']]\n",
    "X_valid.head()"
   ]
  },
  {
   "cell_type": "code",
   "execution_count": 9,
   "id": "cb6931ee-82a5-45a0-aa75-e526ff4e4ce1",
   "metadata": {
    "outputsMetadata": {
     "0": {
      "height": 522,
      "type": "stream"
     }
    }
   },
   "outputs": [
    {
     "name": "stdout",
     "output_type": "stream",
     "text": [
      "<class 'pandas.core.frame.DataFrame'>\n",
      "RangeIndex: 10 entries, 0 to 9\n",
      "Data columns (total 15 columns):\n",
      " #   Column             Non-Null Count  Dtype  \n",
      "---  ------             --------------  -----  \n",
      " 0   credit_policy      10 non-null     int64  \n",
      " 1   purpose            10 non-null     object \n",
      " 2   int_rate           10 non-null     float64\n",
      " 3   installment        10 non-null     float64\n",
      " 4   log_annual_inc     10 non-null     float64\n",
      " 5   dti                10 non-null     float64\n",
      " 6   fico               10 non-null     int64  \n",
      " 7   days_with_cr_line  10 non-null     float64\n",
      " 8   revol_bal          10 non-null     int64  \n",
      " 9   revol_util         10 non-null     float64\n",
      " 10  inq_last_6mths     10 non-null     int64  \n",
      " 11  delinq_2yrs        10 non-null     int64  \n",
      " 12  pub_rec            10 non-null     int64  \n",
      " 13  not_fully_paid     10 non-null     int64  \n",
      " 14  predict            10 non-null     int64  \n",
      "dtypes: float64(6), int64(8), object(1)\n",
      "memory usage: 1.3+ KB\n"
     ]
    }
   ],
   "source": [
    "# Check for missing values\n",
    "df.info()"
   ]
  },
  {
   "cell_type": "code",
   "execution_count": 10,
   "id": "77c5e775-5500-497b-a0b0-f5ba560164b8",
   "metadata": {},
   "outputs": [],
   "source": [
    "# Split col by data type\n",
    "num = ['credit_policy', 'int_rate', 'installment', 'log_annual_inc', 'dti', 'fico', 'days_with_cr_line', 'revol_bal', 'revol_util', 'inq_last_6mths', 'delinq_2yrs', 'pub_rec']\n",
    "non_num = ['purpose']"
   ]
  },
  {
   "cell_type": "markdown",
   "id": "3bf8b7d7-6886-4136-a36f-0384bf5cdd95",
   "metadata": {},
   "source": [
    "Next, we check the distribution of the numerical values to see if there's outliers or skewed distribution.   "
   ]
  },
  {
   "cell_type": "markdown",
   "id": "00189eec-30c1-4817-b8a7-2691eed84aec",
   "metadata": {},
   "source": [
    "### 3.1. Numerical features "
   ]
  },
  {
   "cell_type": "code",
   "execution_count": 11,
   "id": "5b99053e-bf8b-4224-9ebe-14ab83132cd9",
   "metadata": {},
   "outputs": [
    {
     "data": {
      "text/html": [
       "<div>\n",
       "<style scoped>\n",
       "    .dataframe tbody tr th:only-of-type {\n",
       "        vertical-align: middle;\n",
       "    }\n",
       "\n",
       "    .dataframe tbody tr th {\n",
       "        vertical-align: top;\n",
       "    }\n",
       "\n",
       "    .dataframe thead th {\n",
       "        text-align: right;\n",
       "    }\n",
       "</style>\n",
       "<table border=\"1\" class=\"dataframe\">\n",
       "  <thead>\n",
       "    <tr style=\"text-align: right;\">\n",
       "      <th></th>\n",
       "      <th>credit_policy</th>\n",
       "      <th>int_rate</th>\n",
       "      <th>installment</th>\n",
       "      <th>log_annual_inc</th>\n",
       "      <th>dti</th>\n",
       "      <th>fico</th>\n",
       "      <th>days_with_cr_line</th>\n",
       "      <th>revol_bal</th>\n",
       "      <th>revol_util</th>\n",
       "      <th>inq_last_6mths</th>\n",
       "      <th>delinq_2yrs</th>\n",
       "      <th>pub_rec</th>\n",
       "    </tr>\n",
       "  </thead>\n",
       "  <tbody>\n",
       "    <tr>\n",
       "      <th>count</th>\n",
       "      <td>8.0</td>\n",
       "      <td>8.000000</td>\n",
       "      <td>8.000000</td>\n",
       "      <td>8.000000</td>\n",
       "      <td>8.000000</td>\n",
       "      <td>8.000000</td>\n",
       "      <td>8.000000</td>\n",
       "      <td>8.000000</td>\n",
       "      <td>8.000000</td>\n",
       "      <td>8.00000</td>\n",
       "      <td>8.000000</td>\n",
       "      <td>8.000000</td>\n",
       "    </tr>\n",
       "    <tr>\n",
       "      <th>mean</th>\n",
       "      <td>1.0</td>\n",
       "      <td>0.116413</td>\n",
       "      <td>232.133750</td>\n",
       "      <td>11.113471</td>\n",
       "      <td>12.362500</td>\n",
       "      <td>705.750000</td>\n",
       "      <td>4039.005208</td>\n",
       "      <td>23172.500000</td>\n",
       "      <td>57.612500</td>\n",
       "      <td>0.25000</td>\n",
       "      <td>0.125000</td>\n",
       "      <td>0.125000</td>\n",
       "    </tr>\n",
       "    <tr>\n",
       "      <th>std</th>\n",
       "      <td>0.0</td>\n",
       "      <td>0.022665</td>\n",
       "      <td>245.806398</td>\n",
       "      <td>0.503409</td>\n",
       "      <td>5.040138</td>\n",
       "      <td>26.015106</td>\n",
       "      <td>1410.902190</td>\n",
       "      <td>17061.528796</td>\n",
       "      <td>19.626472</td>\n",
       "      <td>0.46291</td>\n",
       "      <td>0.353553</td>\n",
       "      <td>0.353553</td>\n",
       "    </tr>\n",
       "    <tr>\n",
       "      <th>min</th>\n",
       "      <td>1.0</td>\n",
       "      <td>0.078800</td>\n",
       "      <td>84.120000</td>\n",
       "      <td>10.203592</td>\n",
       "      <td>4.000000</td>\n",
       "      <td>667.000000</td>\n",
       "      <td>2699.958333</td>\n",
       "      <td>3839.000000</td>\n",
       "      <td>23.000000</td>\n",
       "      <td>0.00000</td>\n",
       "      <td>0.000000</td>\n",
       "      <td>0.000000</td>\n",
       "    </tr>\n",
       "    <tr>\n",
       "      <th>25%</th>\n",
       "      <td>1.0</td>\n",
       "      <td>0.105525</td>\n",
       "      <td>119.577500</td>\n",
       "      <td>10.930179</td>\n",
       "      <td>9.525000</td>\n",
       "      <td>697.000000</td>\n",
       "      <td>2752.510417</td>\n",
       "      <td>5407.500000</td>\n",
       "      <td>48.125000</td>\n",
       "      <td>0.00000</td>\n",
       "      <td>0.000000</td>\n",
       "      <td>0.000000</td>\n",
       "    </tr>\n",
       "    <tr>\n",
       "      <th>50%</th>\n",
       "      <td>1.0</td>\n",
       "      <td>0.115150</td>\n",
       "      <td>146.780000</td>\n",
       "      <td>11.190937</td>\n",
       "      <td>12.685000</td>\n",
       "      <td>709.500000</td>\n",
       "      <td>3623.020833</td>\n",
       "      <td>26537.000000</td>\n",
       "      <td>60.350000</td>\n",
       "      <td>0.00000</td>\n",
       "      <td>0.000000</td>\n",
       "      <td>0.000000</td>\n",
       "    </tr>\n",
       "    <tr>\n",
       "      <th>75%</th>\n",
       "      <td>1.0</td>\n",
       "      <td>0.127225</td>\n",
       "      <td>202.570000</td>\n",
       "      <td>11.350407</td>\n",
       "      <td>15.472500</td>\n",
       "      <td>723.250000</td>\n",
       "      <td>5246.989583</td>\n",
       "      <td>33634.000000</td>\n",
       "      <td>74.075000</td>\n",
       "      <td>0.25000</td>\n",
       "      <td>0.000000</td>\n",
       "      <td>0.000000</td>\n",
       "    </tr>\n",
       "    <tr>\n",
       "      <th>max</th>\n",
       "      <td>1.0</td>\n",
       "      <td>0.149600</td>\n",
       "      <td>829.100000</td>\n",
       "      <td>11.904968</td>\n",
       "      <td>19.480000</td>\n",
       "      <td>737.000000</td>\n",
       "      <td>6120.041667</td>\n",
       "      <td>50807.000000</td>\n",
       "      <td>76.800000</td>\n",
       "      <td>1.00000</td>\n",
       "      <td>1.000000</td>\n",
       "      <td>1.000000</td>\n",
       "    </tr>\n",
       "  </tbody>\n",
       "</table>\n",
       "</div>"
      ],
      "text/plain": [
       "       credit_policy  int_rate  installment  log_annual_inc        dti  \\\n",
       "count            8.0  8.000000     8.000000        8.000000   8.000000   \n",
       "mean             1.0  0.116413   232.133750       11.113471  12.362500   \n",
       "std              0.0  0.022665   245.806398        0.503409   5.040138   \n",
       "min              1.0  0.078800    84.120000       10.203592   4.000000   \n",
       "25%              1.0  0.105525   119.577500       10.930179   9.525000   \n",
       "50%              1.0  0.115150   146.780000       11.190937  12.685000   \n",
       "75%              1.0  0.127225   202.570000       11.350407  15.472500   \n",
       "max              1.0  0.149600   829.100000       11.904968  19.480000   \n",
       "\n",
       "             fico  days_with_cr_line     revol_bal  revol_util  \\\n",
       "count    8.000000           8.000000      8.000000    8.000000   \n",
       "mean   705.750000        4039.005208  23172.500000   57.612500   \n",
       "std     26.015106        1410.902190  17061.528796   19.626472   \n",
       "min    667.000000        2699.958333   3839.000000   23.000000   \n",
       "25%    697.000000        2752.510417   5407.500000   48.125000   \n",
       "50%    709.500000        3623.020833  26537.000000   60.350000   \n",
       "75%    723.250000        5246.989583  33634.000000   74.075000   \n",
       "max    737.000000        6120.041667  50807.000000   76.800000   \n",
       "\n",
       "       inq_last_6mths  delinq_2yrs   pub_rec  \n",
       "count         8.00000     8.000000  8.000000  \n",
       "mean          0.25000     0.125000  0.125000  \n",
       "std           0.46291     0.353553  0.353553  \n",
       "min           0.00000     0.000000  0.000000  \n",
       "25%           0.00000     0.000000  0.000000  \n",
       "50%           0.00000     0.000000  0.000000  \n",
       "75%           0.25000     0.000000  0.000000  \n",
       "max           1.00000     1.000000  1.000000  "
      ]
     },
     "execution_count": 11,
     "metadata": {},
     "output_type": "execute_result"
    }
   ],
   "source": [
    "# Check distribution of num values\n",
    "X_train[num].describe()"
   ]
  },
  {
   "cell_type": "code",
   "execution_count": 12,
   "id": "6cb3eb04-b40d-46c5-82e9-210bc31ccb6a",
   "metadata": {
    "outputsMetadata": {
     "0": {
      "height": 37,
      "type": "stream"
     }
    }
   },
   "outputs": [
    {
     "name": "stdout",
     "output_type": "stream",
     "text": [
      "=== Distribution of features (before log transformation) ===\n"
     ]
    },
    {
     "ename": "OptionError",
     "evalue": "\"No such keys(s): 'mode.use_inf_as_null'\"",
     "output_type": "error",
     "traceback": [
      "\u001b[1;31m---------------------------------------------------------------------------\u001b[0m",
      "\u001b[1;31mOptionError\u001b[0m                               Traceback (most recent call last)",
      "Cell \u001b[1;32mIn [12], line 6\u001b[0m\n\u001b[0;32m      3\u001b[0m plt\u001b[38;5;241m.\u001b[39mfigure(figsize\u001b[38;5;241m=\u001b[39m(\u001b[38;5;241m15\u001b[39m, \u001b[38;5;241m18\u001b[39m))\n\u001b[0;32m      4\u001b[0m \u001b[38;5;28;01mfor\u001b[39;00m i, col \u001b[38;5;129;01min\u001b[39;00m \u001b[38;5;28menumerate\u001b[39m(num):\n\u001b[0;32m      5\u001b[0m     \u001b[38;5;66;03m# Plot distribution \u001b[39;00m\n\u001b[1;32m----> 6\u001b[0m     plt\u001b[38;5;241m.\u001b[39msubplot(\u001b[38;5;241m4\u001b[39m,\u001b[38;5;241m3\u001b[39m,i\u001b[38;5;241m+\u001b[39m\u001b[38;5;241m1\u001b[39m); sns\u001b[38;5;241m.\u001b[39mdistplot(X_train[col], color\u001b[38;5;241m=\u001b[39m\u001b[38;5;124m'\u001b[39m\u001b[38;5;124mblue\u001b[39m\u001b[38;5;124m'\u001b[39m)\n\u001b[0;32m      7\u001b[0m     plt\u001b[38;5;241m.\u001b[39mtitle(\u001b[38;5;124mf\u001b[39m\u001b[38;5;124m'\u001b[39m\u001b[38;5;124mDistribution of \u001b[39m\u001b[38;5;132;01m{\u001b[39;00mcol\u001b[38;5;132;01m}\u001b[39;00m\u001b[38;5;124m'\u001b[39m)\n\u001b[0;32m      8\u001b[0m \u001b[38;5;66;03m# Show the plot\u001b[39;00m\n",
      "File \u001b[1;32m~\\AppData\\Local\\Programs\\Python\\Python39\\lib\\site-packages\\seaborn\\distributions.py:2517\u001b[0m, in \u001b[0;36mdistplot\u001b[1;34m(a, bins, hist, kde, rug, fit, hist_kws, kde_kws, rug_kws, fit_kws, color, vertical, norm_hist, axlabel, label, ax, x)\u001b[0m\n\u001b[0;32m   2515\u001b[0m \u001b[38;5;28;01mif\u001b[39;00m kde:\n\u001b[0;32m   2516\u001b[0m     kde_color \u001b[38;5;241m=\u001b[39m kde_kws\u001b[38;5;241m.\u001b[39mpop(\u001b[38;5;124m\"\u001b[39m\u001b[38;5;124mcolor\u001b[39m\u001b[38;5;124m\"\u001b[39m, color)\n\u001b[1;32m-> 2517\u001b[0m     kdeplot(\u001b[38;5;241m*\u001b[39m\u001b[38;5;241m*\u001b[39m{axis: a}, ax\u001b[38;5;241m=\u001b[39max, color\u001b[38;5;241m=\u001b[39mkde_color, \u001b[38;5;241m*\u001b[39m\u001b[38;5;241m*\u001b[39mkde_kws)\n\u001b[0;32m   2518\u001b[0m     \u001b[38;5;28;01mif\u001b[39;00m kde_color \u001b[38;5;241m!=\u001b[39m color:\n\u001b[0;32m   2519\u001b[0m         kde_kws[\u001b[38;5;124m\"\u001b[39m\u001b[38;5;124mcolor\u001b[39m\u001b[38;5;124m\"\u001b[39m] \u001b[38;5;241m=\u001b[39m kde_color\n",
      "File \u001b[1;32m~\\AppData\\Local\\Programs\\Python\\Python39\\lib\\site-packages\\seaborn\\distributions.py:1723\u001b[0m, in \u001b[0;36mkdeplot\u001b[1;34m(data, x, y, hue, weights, palette, hue_order, hue_norm, color, fill, multiple, common_norm, common_grid, cumulative, bw_method, bw_adjust, warn_singular, log_scale, levels, thresh, gridsize, cut, clip, legend, cbar, cbar_ax, cbar_kws, ax, **kwargs)\u001b[0m\n\u001b[0;32m   1719\u001b[0m \u001b[38;5;28;01mif\u001b[39;00m p\u001b[38;5;241m.\u001b[39munivariate:\n\u001b[0;32m   1721\u001b[0m     plot_kws \u001b[38;5;241m=\u001b[39m kwargs\u001b[38;5;241m.\u001b[39mcopy()\n\u001b[1;32m-> 1723\u001b[0m     p\u001b[38;5;241m.\u001b[39mplot_univariate_density(\n\u001b[0;32m   1724\u001b[0m         multiple\u001b[38;5;241m=\u001b[39mmultiple,\n\u001b[0;32m   1725\u001b[0m         common_norm\u001b[38;5;241m=\u001b[39mcommon_norm,\n\u001b[0;32m   1726\u001b[0m         common_grid\u001b[38;5;241m=\u001b[39mcommon_grid,\n\u001b[0;32m   1727\u001b[0m         fill\u001b[38;5;241m=\u001b[39mfill,\n\u001b[0;32m   1728\u001b[0m         color\u001b[38;5;241m=\u001b[39mcolor,\n\u001b[0;32m   1729\u001b[0m         legend\u001b[38;5;241m=\u001b[39mlegend,\n\u001b[0;32m   1730\u001b[0m         warn_singular\u001b[38;5;241m=\u001b[39mwarn_singular,\n\u001b[0;32m   1731\u001b[0m         estimate_kws\u001b[38;5;241m=\u001b[39mestimate_kws,\n\u001b[0;32m   1732\u001b[0m         \u001b[38;5;241m*\u001b[39m\u001b[38;5;241m*\u001b[39mplot_kws,\n\u001b[0;32m   1733\u001b[0m     )\n\u001b[0;32m   1735\u001b[0m \u001b[38;5;28;01melse\u001b[39;00m:\n\u001b[0;32m   1737\u001b[0m     p\u001b[38;5;241m.\u001b[39mplot_bivariate_density(\n\u001b[0;32m   1738\u001b[0m         common_norm\u001b[38;5;241m=\u001b[39mcommon_norm,\n\u001b[0;32m   1739\u001b[0m         fill\u001b[38;5;241m=\u001b[39mfill,\n\u001b[1;32m   (...)\u001b[0m\n\u001b[0;32m   1749\u001b[0m         \u001b[38;5;241m*\u001b[39m\u001b[38;5;241m*\u001b[39mkwargs,\n\u001b[0;32m   1750\u001b[0m     )\n",
      "File \u001b[1;32m~\\AppData\\Local\\Programs\\Python\\Python39\\lib\\site-packages\\seaborn\\distributions.py:935\u001b[0m, in \u001b[0;36m_DistributionPlotter.plot_univariate_density\u001b[1;34m(self, multiple, common_norm, common_grid, warn_singular, fill, color, legend, estimate_kws, **plot_kws)\u001b[0m\n\u001b[0;32m    932\u001b[0m log_scale \u001b[38;5;241m=\u001b[39m \u001b[38;5;28mself\u001b[39m\u001b[38;5;241m.\u001b[39m_log_scaled(\u001b[38;5;28mself\u001b[39m\u001b[38;5;241m.\u001b[39mdata_variable)\n\u001b[0;32m    934\u001b[0m \u001b[38;5;66;03m# Do the computation\u001b[39;00m\n\u001b[1;32m--> 935\u001b[0m densities \u001b[38;5;241m=\u001b[39m \u001b[38;5;28;43mself\u001b[39;49m\u001b[38;5;241;43m.\u001b[39;49m\u001b[43m_compute_univariate_density\u001b[49m\u001b[43m(\u001b[49m\n\u001b[0;32m    936\u001b[0m \u001b[43m    \u001b[49m\u001b[38;5;28;43mself\u001b[39;49m\u001b[38;5;241;43m.\u001b[39;49m\u001b[43mdata_variable\u001b[49m\u001b[43m,\u001b[49m\n\u001b[0;32m    937\u001b[0m \u001b[43m    \u001b[49m\u001b[43mcommon_norm\u001b[49m\u001b[43m,\u001b[49m\n\u001b[0;32m    938\u001b[0m \u001b[43m    \u001b[49m\u001b[43mcommon_grid\u001b[49m\u001b[43m,\u001b[49m\n\u001b[0;32m    939\u001b[0m \u001b[43m    \u001b[49m\u001b[43mestimate_kws\u001b[49m\u001b[43m,\u001b[49m\n\u001b[0;32m    940\u001b[0m \u001b[43m    \u001b[49m\u001b[43mlog_scale\u001b[49m\u001b[43m,\u001b[49m\n\u001b[0;32m    941\u001b[0m \u001b[43m    \u001b[49m\u001b[43mwarn_singular\u001b[49m\u001b[43m,\u001b[49m\n\u001b[0;32m    942\u001b[0m \u001b[43m\u001b[49m\u001b[43m)\u001b[49m\n\u001b[0;32m    944\u001b[0m \u001b[38;5;66;03m# Adjust densities based on the `multiple` rule\u001b[39;00m\n\u001b[0;32m    945\u001b[0m densities, baselines \u001b[38;5;241m=\u001b[39m \u001b[38;5;28mself\u001b[39m\u001b[38;5;241m.\u001b[39m_resolve_multiple(densities, multiple)\n",
      "File \u001b[1;32m~\\AppData\\Local\\Programs\\Python\\Python39\\lib\\site-packages\\seaborn\\distributions.py:332\u001b[0m, in \u001b[0;36m_DistributionPlotter._compute_univariate_density\u001b[1;34m(self, data_variable, common_norm, common_grid, estimate_kws, log_scale, warn_singular)\u001b[0m\n\u001b[0;32m    328\u001b[0m     whole_weight \u001b[38;5;241m=\u001b[39m \u001b[38;5;28mlen\u001b[39m(all_data)\n\u001b[0;32m    330\u001b[0m densities \u001b[38;5;241m=\u001b[39m {}\n\u001b[1;32m--> 332\u001b[0m \u001b[38;5;28;01mfor\u001b[39;00m sub_vars, sub_data \u001b[38;5;129;01min\u001b[39;00m \u001b[38;5;28mself\u001b[39m\u001b[38;5;241m.\u001b[39miter_data(\u001b[38;5;124m\"\u001b[39m\u001b[38;5;124mhue\u001b[39m\u001b[38;5;124m\"\u001b[39m, from_comp_data\u001b[38;5;241m=\u001b[39m\u001b[38;5;28;01mTrue\u001b[39;00m):\n\u001b[0;32m    333\u001b[0m \n\u001b[0;32m    334\u001b[0m     \u001b[38;5;66;03m# Extract the data points from this sub set and remove nulls\u001b[39;00m\n\u001b[0;32m    335\u001b[0m     observations \u001b[38;5;241m=\u001b[39m sub_data[data_variable]\n\u001b[0;32m    337\u001b[0m     \u001b[38;5;66;03m# Extract the weights for this subset of observations\u001b[39;00m\n",
      "File \u001b[1;32m~\\AppData\\Local\\Programs\\Python\\Python39\\lib\\site-packages\\seaborn\\_oldcore.py:1028\u001b[0m, in \u001b[0;36mVectorPlotter.iter_data\u001b[1;34m(self, grouping_vars, reverse, from_comp_data, by_facet, allow_empty, dropna)\u001b[0m\n\u001b[0;32m   1023\u001b[0m grouping_vars \u001b[38;5;241m=\u001b[39m [\n\u001b[0;32m   1024\u001b[0m     var \u001b[38;5;28;01mfor\u001b[39;00m var \u001b[38;5;129;01min\u001b[39;00m grouping_vars \u001b[38;5;28;01mif\u001b[39;00m var \u001b[38;5;129;01min\u001b[39;00m \u001b[38;5;28mself\u001b[39m\u001b[38;5;241m.\u001b[39mvariables\n\u001b[0;32m   1025\u001b[0m ]\n\u001b[0;32m   1027\u001b[0m \u001b[38;5;28;01mif\u001b[39;00m from_comp_data:\n\u001b[1;32m-> 1028\u001b[0m     data \u001b[38;5;241m=\u001b[39m \u001b[38;5;28;43mself\u001b[39;49m\u001b[38;5;241;43m.\u001b[39;49m\u001b[43mcomp_data\u001b[49m\n\u001b[0;32m   1029\u001b[0m \u001b[38;5;28;01melse\u001b[39;00m:\n\u001b[0;32m   1030\u001b[0m     data \u001b[38;5;241m=\u001b[39m \u001b[38;5;28mself\u001b[39m\u001b[38;5;241m.\u001b[39mplot_data\n",
      "File \u001b[1;32m~\\AppData\\Local\\Programs\\Python\\Python39\\lib\\site-packages\\seaborn\\_oldcore.py:1119\u001b[0m, in \u001b[0;36mVectorPlotter.comp_data\u001b[1;34m(self)\u001b[0m\n\u001b[0;32m   1117\u001b[0m grouped \u001b[38;5;241m=\u001b[39m \u001b[38;5;28mself\u001b[39m\u001b[38;5;241m.\u001b[39mplot_data[var]\u001b[38;5;241m.\u001b[39mgroupby(\u001b[38;5;28mself\u001b[39m\u001b[38;5;241m.\u001b[39mconverters[var], sort\u001b[38;5;241m=\u001b[39m\u001b[38;5;28;01mFalse\u001b[39;00m)\n\u001b[0;32m   1118\u001b[0m \u001b[38;5;28;01mfor\u001b[39;00m converter, orig \u001b[38;5;129;01min\u001b[39;00m grouped:\n\u001b[1;32m-> 1119\u001b[0m     \u001b[38;5;28;01mwith\u001b[39;00m pd\u001b[38;5;241m.\u001b[39moption_context(\u001b[38;5;124m'\u001b[39m\u001b[38;5;124mmode.use_inf_as_null\u001b[39m\u001b[38;5;124m'\u001b[39m, \u001b[38;5;28;01mTrue\u001b[39;00m):\n\u001b[0;32m   1120\u001b[0m         orig \u001b[38;5;241m=\u001b[39m orig\u001b[38;5;241m.\u001b[39mdropna()\n\u001b[0;32m   1121\u001b[0m         \u001b[38;5;28;01mif\u001b[39;00m var \u001b[38;5;129;01min\u001b[39;00m \u001b[38;5;28mself\u001b[39m\u001b[38;5;241m.\u001b[39mvar_levels:\n\u001b[0;32m   1122\u001b[0m             \u001b[38;5;66;03m# TODO this should happen in some centralized location\u001b[39;00m\n\u001b[0;32m   1123\u001b[0m             \u001b[38;5;66;03m# it is similar to GH2419, but more complicated because\u001b[39;00m\n\u001b[0;32m   1124\u001b[0m             \u001b[38;5;66;03m# supporting `order` in categorical plots is tricky\u001b[39;00m\n",
      "File \u001b[1;32m~\\AppData\\Roaming\\Python\\Python39\\site-packages\\pandas\\_config\\config.py:478\u001b[0m, in \u001b[0;36moption_context.__enter__\u001b[1;34m(self)\u001b[0m\n\u001b[0;32m    477\u001b[0m \u001b[38;5;28;01mdef\u001b[39;00m \u001b[38;5;21m__enter__\u001b[39m(\u001b[38;5;28mself\u001b[39m) \u001b[38;5;241m-\u001b[39m\u001b[38;5;241m>\u001b[39m \u001b[38;5;28;01mNone\u001b[39;00m:\n\u001b[1;32m--> 478\u001b[0m     \u001b[38;5;28mself\u001b[39m\u001b[38;5;241m.\u001b[39mundo \u001b[38;5;241m=\u001b[39m [(pat, _get_option(pat)) \u001b[38;5;28;01mfor\u001b[39;00m pat, val \u001b[38;5;129;01min\u001b[39;00m \u001b[38;5;28mself\u001b[39m\u001b[38;5;241m.\u001b[39mops]\n\u001b[0;32m    480\u001b[0m     \u001b[38;5;28;01mfor\u001b[39;00m pat, val \u001b[38;5;129;01min\u001b[39;00m \u001b[38;5;28mself\u001b[39m\u001b[38;5;241m.\u001b[39mops:\n\u001b[0;32m    481\u001b[0m         _set_option(pat, val, silent\u001b[38;5;241m=\u001b[39m\u001b[38;5;28;01mTrue\u001b[39;00m)\n",
      "File \u001b[1;32m~\\AppData\\Roaming\\Python\\Python39\\site-packages\\pandas\\_config\\config.py:478\u001b[0m, in \u001b[0;36m<listcomp>\u001b[1;34m(.0)\u001b[0m\n\u001b[0;32m    477\u001b[0m \u001b[38;5;28;01mdef\u001b[39;00m \u001b[38;5;21m__enter__\u001b[39m(\u001b[38;5;28mself\u001b[39m) \u001b[38;5;241m-\u001b[39m\u001b[38;5;241m>\u001b[39m \u001b[38;5;28;01mNone\u001b[39;00m:\n\u001b[1;32m--> 478\u001b[0m     \u001b[38;5;28mself\u001b[39m\u001b[38;5;241m.\u001b[39mundo \u001b[38;5;241m=\u001b[39m [(pat, \u001b[43m_get_option\u001b[49m\u001b[43m(\u001b[49m\u001b[43mpat\u001b[49m\u001b[43m)\u001b[49m) \u001b[38;5;28;01mfor\u001b[39;00m pat, val \u001b[38;5;129;01min\u001b[39;00m \u001b[38;5;28mself\u001b[39m\u001b[38;5;241m.\u001b[39mops]\n\u001b[0;32m    480\u001b[0m     \u001b[38;5;28;01mfor\u001b[39;00m pat, val \u001b[38;5;129;01min\u001b[39;00m \u001b[38;5;28mself\u001b[39m\u001b[38;5;241m.\u001b[39mops:\n\u001b[0;32m    481\u001b[0m         _set_option(pat, val, silent\u001b[38;5;241m=\u001b[39m\u001b[38;5;28;01mTrue\u001b[39;00m)\n",
      "File \u001b[1;32m~\\AppData\\Roaming\\Python\\Python39\\site-packages\\pandas\\_config\\config.py:146\u001b[0m, in \u001b[0;36m_get_option\u001b[1;34m(pat, silent)\u001b[0m\n\u001b[0;32m    145\u001b[0m \u001b[38;5;28;01mdef\u001b[39;00m \u001b[38;5;21m_get_option\u001b[39m(pat: \u001b[38;5;28mstr\u001b[39m, silent: \u001b[38;5;28mbool\u001b[39m \u001b[38;5;241m=\u001b[39m \u001b[38;5;28;01mFalse\u001b[39;00m) \u001b[38;5;241m-\u001b[39m\u001b[38;5;241m>\u001b[39m Any:\n\u001b[1;32m--> 146\u001b[0m     key \u001b[38;5;241m=\u001b[39m \u001b[43m_get_single_key\u001b[49m\u001b[43m(\u001b[49m\u001b[43mpat\u001b[49m\u001b[43m,\u001b[49m\u001b[43m \u001b[49m\u001b[43msilent\u001b[49m\u001b[43m)\u001b[49m\n\u001b[0;32m    148\u001b[0m     \u001b[38;5;66;03m# walk the nested dict\u001b[39;00m\n\u001b[0;32m    149\u001b[0m     root, k \u001b[38;5;241m=\u001b[39m _get_root(key)\n",
      "File \u001b[1;32m~\\AppData\\Roaming\\Python\\Python39\\site-packages\\pandas\\_config\\config.py:132\u001b[0m, in \u001b[0;36m_get_single_key\u001b[1;34m(pat, silent)\u001b[0m\n\u001b[0;32m    130\u001b[0m     \u001b[38;5;28;01mif\u001b[39;00m \u001b[38;5;129;01mnot\u001b[39;00m silent:\n\u001b[0;32m    131\u001b[0m         _warn_if_deprecated(pat)\n\u001b[1;32m--> 132\u001b[0m     \u001b[38;5;28;01mraise\u001b[39;00m OptionError(\u001b[38;5;124mf\u001b[39m\u001b[38;5;124m\"\u001b[39m\u001b[38;5;124mNo such keys(s): \u001b[39m\u001b[38;5;132;01m{\u001b[39;00m\u001b[38;5;28mrepr\u001b[39m(pat)\u001b[38;5;132;01m}\u001b[39;00m\u001b[38;5;124m\"\u001b[39m)\n\u001b[0;32m    133\u001b[0m \u001b[38;5;28;01mif\u001b[39;00m \u001b[38;5;28mlen\u001b[39m(keys) \u001b[38;5;241m>\u001b[39m \u001b[38;5;241m1\u001b[39m:\n\u001b[0;32m    134\u001b[0m     \u001b[38;5;28;01mraise\u001b[39;00m OptionError(\u001b[38;5;124m\"\u001b[39m\u001b[38;5;124mPattern matched multiple keys\u001b[39m\u001b[38;5;124m\"\u001b[39m)\n",
      "\u001b[1;31mOptionError\u001b[0m: \"No such keys(s): 'mode.use_inf_as_null'\""
     ]
    },
    {
     "data": {
      "image/png": "[encoded data removed]",
      "text/plain": [
       "<Figure size 1500x1800 with 1 Axes>"
      ]
     },
     "metadata": {},
     "output_type": "display_data"
    }
   ],
   "source": [
    "# Check distribution (num)\n",
    "print(f'=== Distribution of features (before log transformation) ===')\n",
    "plt.figure(figsize=(15, 18))\n",
    "for i, col in enumerate(num):\n",
    "    # Plot distribution \n",
    "    plt.subplot(4,3,i+1); sns.distplot(X_train[col], color='blue')\n",
    "    plt.title(f'Distribution of {col}')\n",
    "# Show the plot\n",
    "plt.tight_layout()\n",
    "plt.show()"
   ]
  },
  {
   "cell_type": "markdown",
   "id": "5309899a-8ba4-404f-a49f-2d16812ae76c",
   "metadata": {},
   "source": [
    "From the above, we see that except for `log_annual_inc`, all the other numerical features are highly skewed.   \n",
    "This can pose a problem when modelling as most machine learning models require features to be normally distributed.\n",
    "Thus, we will perform log transformation before using these features in our modelling.   \n"
   ]
  },
  {
   "cell_type": "code",
   "execution_count": null,
   "id": "03fa3063-ea29-4cd0-8d45-f9646be0a90d",
   "metadata": {},
   "outputs": [],
   "source": [
    "# Log transform function\n",
    "def log_transform(data, to_log):\n",
    "    X = data.copy()\n",
    "    for item in to_log:\n",
    "        # Add 1 to the data to prevent infinity values\n",
    "        X[item] = np.log(1+X[item])\n",
    "    return X"
   ]
  },
  {
   "cell_type": "code",
   "execution_count": null,
   "id": "934b285c-1998-4c13-b894-5fd9e1b34533",
   "metadata": {},
   "outputs": [],
   "source": [
    "# Display unique values in cat data\n",
    "X_train['purpose'].unique()"
   ]
  },
  {
   "cell_type": "code",
   "execution_count": null,
   "id": "13e41334-3d97-40b1-9b68-4cf1fb30cbe1",
   "metadata": {},
   "outputs": [],
   "source": [
    "# Transform categorial features to num \n",
    "X_train_e = pd.get_dummies(data=X_train)\n",
    "X_train_e = X_train_e.drop(['purpose_all_other'], axis=1)\n",
    "\n",
    "X_test_e = pd.get_dummies(data=X_test)\n",
    "X_test_e = X_test_e.drop(['purpose_all_other'], axis=1)\n",
    "\n",
    "X_valid_e = pd.get_dummies(data=X_valid)\n",
    "X_valid_e = X_valid_e.drop(['purpose_all_other'], axis=1)"
   ]
  },
  {
   "cell_type": "code",
   "execution_count": null,
   "id": "0d44ff7b-db13-423d-9736-980b6e2ac60c",
   "metadata": {},
   "outputs": [],
   "source": [
    "# Log transform\n",
    "to_log = ['credit_policy', 'int_rate', 'installment', 'dti', 'fico', 'days_with_cr_line', 'revol_bal', 'revol_util', 'inq_last_6mths', 'delinq_2yrs', 'pub_rec']\n",
    "X_train_e_l = log_transform(X_train_e, to_log)\n",
    "X_test_e_l = log_transform(X_test_e, to_log)\n",
    "X_valid_e_l = log_transform(X_valid_e, to_log)\n",
    "X_train_e_l.head()"
   ]
  },
  {
   "cell_type": "code",
   "execution_count": null,
   "id": "98153f01-a8e2-4582-becc-248dd9a11088",
   "metadata": {},
   "outputs": [],
   "source": [
    "X_train_e_l.describe()"
   ]
  },
  {
   "cell_type": "markdown",
   "id": "b7e7c87d-b70d-4870-b3b0-102888934b2b",
   "metadata": {},
   "source": [
    "Now that log transformation is done, we check the distribution of the numerical features again.   \n",
    "In general, the distributions have improved and are no longer as skewed as before.   \n",
    "However, we noticed that each feature is on a different scale.   \n",
    "e.g. `log_annual_inc` is on a much larger scale and might unnecessarily scale our models.   \n",
    "Thus, we will proceed next to normalize the features before modelling.  \n"
   ]
  },
  {
   "cell_type": "code",
   "execution_count": null,
   "id": "e9281b7d-3da8-4de8-8879-b1a5b235b8c2",
   "metadata": {},
   "outputs": [],
   "source": [
    "# Check distribution (num)\n",
    "print(f'=== Distribution of features (after log transformation) ===')\n",
    "plt.figure(figsize=(15, 18))\n",
    "for i, col in enumerate(num):\n",
    "    # Plot distribution \n",
    "    plt.subplot(4,3,i+1); sns.distplot(X_train_e_l[col], color='blue')\n",
    "    plt.title(f'Distribution of {col}')\n",
    "# Show the plot\n",
    "plt.tight_layout()\n",
    "plt.show()"
   ]
  },
  {
   "cell_type": "code",
   "execution_count": null,
   "id": "fb541dbc-7c8c-4e0c-bdb8-6a1fa6a37918",
   "metadata": {},
   "outputs": [],
   "source": [
    "# Initialize a standard scaler and fit it\n",
    "scaler = StandardScaler()\n",
    "scaler.fit(X_train_e_l)\n",
    "\n",
    "# Scale and center the data\n",
    "tmp_train = scaler.transform(X_train_e_l)\n",
    "tmp_test = scaler.transform(X_test_e_l)\n",
    "tmp_valid = scaler.transform(X_valid_e_l)\n",
    "\n",
    "# Create a pandas DataFrame\n",
    "X_train_e_l_n = pd.DataFrame(data=tmp_train, index=X_train_e.index, columns=X_train_e.columns)    \n",
    "X_test_e_l_n = pd.DataFrame(data=tmp_test, index=X_test_e.index, columns=X_test_e.columns) \n",
    "X_valid_e_l_n = pd.DataFrame(data=tmp_valid, index=X_valid_e.index, columns=X_valid_e.columns) "
   ]
  },
  {
   "cell_type": "code",
   "execution_count": null,
   "id": "f0045b3e-8fd5-4b1e-8736-0d0393fd17d6",
   "metadata": {},
   "outputs": [],
   "source": [
    "X_train_e_l_n.describe()"
   ]
  },
  {
   "cell_type": "code",
   "execution_count": null,
   "id": "97b4e9f9-5b64-461f-a939-17580c505233",
   "metadata": {},
   "outputs": [],
   "source": [
    "X_train_e_l_n.head()"
   ]
  },
  {
   "cell_type": "markdown",
   "id": "675ca878-4c61-46ff-aeca-146df5d174dc",
   "metadata": {},
   "source": [
    "As expected, after scaling, all data now has mean 0, std deviation 1.    "
   ]
  },
  {
   "cell_type": "markdown",
   "id": "fbaa8f00-41f5-4986-839a-31ac05be321f",
   "metadata": {},
   "source": [
    "### 3.2 Categorial features "
   ]
  },
  {
   "cell_type": "code",
   "execution_count": null,
   "id": "73890e09-03e3-41fb-bbbb-f36e10b4a72b",
   "metadata": {},
   "outputs": [],
   "source": [
    "# Check distribution (non-num)\n",
    "plt.figure(figsize=(8, 8))\n",
    "# Plot distribution \n",
    "for i, col in enumerate(['purpose']):\n",
    "    order = train[col].value_counts().index   \n",
    "    plt.subplot(1,1,i+1); sns.countplot(train[col],palette=cmap, order = order ) \n",
    "    plt.title(f'Distribution of {col}')\n",
    "    plt.ylabel('No. of loans')\n",
    "    plt.xticks(rotation=90)\n",
    "# Show the plot\n",
    "plt.tight_layout()\n",
    "plt.show()"
   ]
  },
  {
   "cell_type": "markdown",
   "id": "ef3227e4-88b9-4576-ba5b-e6a95059453f",
   "metadata": {},
   "source": [
    "From the above, we see that the largest purpose for a loan is debt consolidation and other purposes.   \n",
    "Education is the least reason for a loan in this dataset. We will keep this in view to see how it might impact our modelling later. "
   ]
  },
  {
   "cell_type": "code",
   "execution_count": null,
   "id": "1f625d5f-f7fd-46b6-8ec1-0f8e8d8203d5",
   "metadata": {},
   "outputs": [],
   "source": [
    "X_train[['purpose']].describe()"
   ]
  },
  {
   "cell_type": "markdown",
   "id": "6a4f805b-55d5-464a-b57a-7b56b3987c35",
   "metadata": {},
   "source": [
    "t-SNE technique is then applied on the numerical features for visualization purpose.   \n",
    "The output 2D array was plotted and color-coded by the categorial features to scan for potential clusters.   "
   ]
  },
  {
   "cell_type": "code",
   "execution_count": null,
   "id": "c80f0365-3a53-4214-904b-b9150be62df4",
   "metadata": {},
   "outputs": [],
   "source": [
    "# Plot tsne scatter plot\n",
    "def tsne_scatterplot(data, hue):\n",
    "    # Color the points \n",
    "    sns.scatterplot(x=\"t_SNE_PC_1\", y=\"t_SNE_PC_2\", hue=hue, data=data, alpha=0.3)\n",
    "    plt.title(hue)"
   ]
  },
  {
   "cell_type": "code",
   "execution_count": null,
   "id": "8a8c1eb1-3fc7-4f1e-be67-420b505c1e16",
   "metadata": {},
   "outputs": [],
   "source": [
    "# Create a t-SNE model with learning rate 50\n",
    "m = TSNE(learning_rate=50)"
   ]
  },
  {
   "cell_type": "code",
   "execution_count": null,
   "id": "c79aa2fb-acbe-4983-896b-1bdcfcbabe03",
   "metadata": {},
   "outputs": [],
   "source": [
    "X_train_num_l_n = X_train_e_l_n[num]\n",
    "X_train_num_l_n.head()"
   ]
  },
  {
   "cell_type": "code",
   "execution_count": null,
   "id": "8ae94fae-0405-4433-b9d2-5008e6e8021c",
   "metadata": {},
   "outputs": [],
   "source": [
    "# Fit and transform the \n",
    "tsne_features = m.fit_transform(X_train_num_l_n)\n",
    "print(tsne_features.shape)"
   ]
  },
  {
   "cell_type": "code",
   "execution_count": null,
   "id": "28b4595a-7dff-49ff-943a-d5b4b0d64487",
   "metadata": {},
   "outputs": [],
   "source": [
    "# Create df\n",
    "df_tsne = y_train.copy()\n",
    "df_tsne = pd.concat([X_train, y_train], axis=1)\n",
    "df_tsne['t_SNE_PC_1'] = tsne_features[:,0]\n",
    "df_tsne['t_SNE_PC_2'] = tsne_features[:,1]\n",
    "df_tsne.head()"
   ]
  },
  {
   "cell_type": "code",
   "execution_count": null,
   "id": "eccb7b05-9138-43ad-8768-0c1e880b117b",
   "metadata": {},
   "outputs": [],
   "source": [
    "# Viz of y\n",
    "plt.figure(figsize=(8,8))\n",
    "\n",
    "# y \n",
    "tsne_scatterplot(df_tsne, 'not_fully_paid')\n",
    "# Plot\n",
    "plt.show()"
   ]
  },
  {
   "cell_type": "code",
   "execution_count": null,
   "id": "28c13957-dc7d-4974-80fd-502f142d02ad",
   "metadata": {},
   "outputs": [],
   "source": [
    "# Viz of purpose\n",
    "plt.figure(figsize=(8,8))\n",
    "\n",
    "# y \n",
    "tsne_scatterplot(df_tsne, 'purpose')\n",
    "# Plot\n",
    "plt.show()"
   ]
  },
  {
   "cell_type": "markdown",
   "id": "07793a46-cca7-4a27-b70e-ab1e42c85b1d",
   "metadata": {},
   "source": [
    "Regretfully, we do not see distinct clusters for the loans which are fully paid vs those which are not.   \n",
    "Additionally, there is no distinct clusters seen for purpose of the loan too.  \n"
   ]
  },
  {
   "cell_type": "markdown",
   "id": "3ee5ad4a-580d-4399-9d8b-2cee51872280",
   "metadata": {},
   "source": [
    "### 3.3. Target variable  \n",
    "\n",
    "In this section, we analyze the distribution target feature in detail and examine if there's any point for concern before moving on to modelling.  \n"
   ]
  },
  {
   "cell_type": "code",
   "execution_count": null,
   "id": "54d50290-907f-4289-bf6c-561b179f1e32",
   "metadata": {},
   "outputs": [],
   "source": [
    "# Check distribution (non-num)\n",
    "plt.figure(figsize=(8, 8))\n",
    "# Plot distribution \n",
    "for i, col in enumerate(['not_fully_paid']):\n",
    "    order = train[col].value_counts().index   \n",
    "    plt.subplot(1,1,i+1); sns.countplot(train[col],palette=cmap, order = order ) \n",
    "    plt.title(f'Distribution of {col}')\n",
    "    plt.ylabel('No. of clients')\n",
    "    plt.xticks(rotation=90)\n",
    "# Show the plot\n",
    "plt.tight_layout()\n",
    "plt.show()"
   ]
  },
  {
   "cell_type": "markdown",
   "id": "a7c676e8-5436-40c4-8ced-a578ed65dfd6",
   "metadata": {},
   "source": [
    "From the above, we see huge class imbalance in the target variable. i.e., Only approximately 15% of the loans are not fully paid.    \n",
    "Thus, we must take care of this in the modelling (e.g., apply re-sampling technique) and ensure that huge class imbalance do not negatively impact our modelling performance.   \n",
    "\n",
    "At this juncture, we argue that recall is the most important performance metric for our modelling purpose.  \n",
    "This is because if a loan is not fully paid, the lender will incur high default risk. Thus, it is more important to have a good recall (low FN) instead of a high precision (low FP). In cases of FN, the lender will lose huge amount of monies due to default and this is highly undesirable. On the other hand, in cases of FP, the lender loses only potential revenue (at the expense of lower default risk) which we believe is comparatively acceptable.  \n"
   ]
  },
  {
   "cell_type": "code",
   "execution_count": null,
   "id": "7e39809a-796f-4237-a166-6c225ae5a1ab",
   "metadata": {},
   "outputs": [],
   "source": [
    "def stack_bar(d, xlabel, hue = 'lead_type'):\n",
    "    plt.figure(figsize=(5, 5))\n",
    "    train_pct = (d.groupby([xlabel,hue])['credit_policy'].count()/d.groupby([xlabel])['credit_policy'].count())\n",
    "    train_pct.unstack().plot.bar(stacked=True)\n",
    "    plt.ylabel('%') \n",
    "    plt.title(f'100% stack bar chart \\n By {xlabel}')\n",
    "    plt.show()   "
   ]
  },
  {
   "cell_type": "code",
   "execution_count": null,
   "id": "b8bfe663-02a8-4a67-8cfe-3bdb430c38ff",
   "metadata": {},
   "outputs": [],
   "source": [
    "stack_bar(train, 'purpose', 'not_fully_paid')"
   ]
  },
  {
   "cell_type": "markdown",
   "id": "2d08e1fe-2ada-4c84-9e90-3f3de2574625",
   "metadata": {},
   "source": [
    "From the chart above, small business and educational loan has the highest proportion of `not fully paid` loans.  \n",
    "This is likely the case since such small businesses are more susceptible to volatile market and environment situations, resulting in higher chance of defaults.\n"
   ]
  },
  {
   "cell_type": "code",
   "execution_count": null,
   "id": "549aaaf4-984a-47fb-903d-b51c7e67c576",
   "metadata": {},
   "outputs": [],
   "source": [
    "# Convert target var to a categorial var\n",
    "train['y'] = np.where(train['not_fully_paid']==1, 'yes', 'no')\n",
    "train.info()"
   ]
  },
  {
   "cell_type": "code",
   "execution_count": null,
   "id": "7dccb0b2-f175-4523-94b3-9a2fb8c6721a",
   "metadata": {},
   "outputs": [],
   "source": [
    "# Not fully paid \n",
    "train[train['y']=='yes'].describe()"
   ]
  },
  {
   "cell_type": "code",
   "execution_count": null,
   "id": "2927a85b-97da-4dee-bc89-fed04f583259",
   "metadata": {},
   "outputs": [],
   "source": [
    "# fully paid \n",
    "train[train['y']=='no'].describe()"
   ]
  },
  {
   "cell_type": "code",
   "execution_count": null,
   "id": "8e622a3e-fba1-49a4-8f23-96efbf40a812",
   "metadata": {},
   "outputs": [],
   "source": [
    "# Check distribution (num)\n",
    "plt.figure(figsize=(10, 30))\n",
    "# Plot distribution \n",
    "for i, col in enumerate(num):\n",
    "    plt.subplot(13,1,1+i); sns.violinplot(x=col, y='y', data=train, inner=None, color='lightgray');sns.stripplot(x=col, y='y', data=train, size=0.8,jitter=True);\n",
    "    plt.title('Distribution of target variable');\n",
    "    plt.ylabel('Not fully paid')\n",
    "    # Show the plot\n",
    "plt.tight_layout()\n",
    "plt.show()"
   ]
  },
  {
   "cell_type": "markdown",
   "id": "98a58265-6bec-4629-90e1-16a383d74077",
   "metadata": {},
   "source": [
    "From the plots above, loans not fully paid generally have higher interest rate, larger number of inquiries by creditors in the last 6 months, lower revolving balance, lower credit policy and lower FICO.  \n",
    "\n",
    "We will review these observations in the feature selection section to determine which features are important for our modelling purpose.  \n"
   ]
  },
  {
   "cell_type": "markdown",
   "id": "8575d14c-c907-490b-8987-ddc5e04212dd",
   "metadata": {},
   "source": [
    "### 4. Feature selection   \n",
    "\n",
    "In this section, we first determine the number of features required for modelling purpose using PCA analysis.      \n",
    "Next, we will use Recursive feature elimination (RFE) to determine the features to use for modelling.   \n",
    "RFE is a greedy algorithm which recursively remove features and build new models on the remaining features. Based on the model(s) accuracy, it then identifies relevant features which contributed most to predicting the target variable. (Data camp, 2020)\n",
    "\n"
   ]
  },
  {
   "cell_type": "markdown",
   "id": "abd9d9c4-2a93-4ff4-a9a4-f69536e31500",
   "metadata": {},
   "source": [
    "### 4.1 Number of features to use - PCA analysis \n",
    "With PCA, we first gain an intuition on the number of features required to explain the variance in all candidate features. PCA was chosen because it can perform dimensionality reduction and remove multi-collinearity at the same time. Up-sampling is done to overcome issues with the imbalance dataset before performing PCA.    \n"
   ]
  },
  {
   "cell_type": "code",
   "execution_count": null,
   "id": "ea22ec0a-1f3c-4883-a20b-309236d9da74",
   "metadata": {},
   "outputs": [],
   "source": [
    "def upsample_data(X, y):\n",
    "    # Concat\n",
    "    data = pd.concat([X, y], axis=1)\n",
    "    #data.head()\n",
    "    subscribe = data[data['not_fully_paid']==1]\n",
    "    not_subscribe = data[data['not_fully_paid']==0]\n",
    "    # Upsample minority and combine with majority\n",
    "    data_upsampled = resample(not_subscribe, replace=True, n_samples=len(subscribe), random_state=0)\n",
    "    upsampled = pd.concat([subscribe, data_upsampled])\n",
    "    # Upsampled feature matrix and target array\n",
    "    X_up = upsampled.drop('not_fully_paid', axis=1)\n",
    "    y_up = upsampled[['not_fully_paid']]\n",
    "    #X_up.head()\n",
    "    \n",
    "    return X_up, y_up"
   ]
  },
  {
   "cell_type": "code",
   "execution_count": null,
   "id": "54cc7b04-d354-46d1-997c-57bdd8b62b8c",
   "metadata": {},
   "outputs": [],
   "source": [
    "# Perform upsample on all dataset\n",
    "X_train_e_l_n_up, y_train_up = upsample_data(X_train_e_l_n, y_train)\n",
    "X_test_e_l_n_up, y_test_up = upsample_data(X_test_e_l_n, y_test)\n",
    "X_valid_e_l_n_up, y_valid_up = upsample_data(X_valid_e_l_n, y_valid)"
   ]
  },
  {
   "cell_type": "code",
   "execution_count": null,
   "id": "513c5918-7e67-41b8-b0c8-c1a76d4196fc",
   "metadata": {},
   "outputs": [],
   "source": [
    "X_train_e_l_n_up.info()"
   ]
  },
  {
   "cell_type": "code",
   "execution_count": null,
   "id": "d8ab5a26-8c78-4ee9-b900-d2e6517f87f5",
   "metadata": {},
   "outputs": [],
   "source": [
    "# Set attributes for PCA analysis\n",
    "n=18\n",
    "columns=['PCA_1', 'PCA_2', 'PCA_3', 'PCA_4', 'PCA_5', 'PCA_6', 'PCA_7', 'PCA_8', 'PCA_9', 'PCA_10', 'PCA_11', 'PCA_12', 'PCA_13', 'PCA_14', 'PCA_15', 'PCA_16', 'PCA_17', 'PCA_18']"
   ]
  },
  {
   "cell_type": "code",
   "execution_count": null,
   "id": "2e518484-e3c9-40b0-a976-f62fb6a6c233",
   "metadata": {},
   "outputs": [],
   "source": [
    "# Create the PCA instance and fit and transform the data with pca\n",
    "pca = PCA(n_components=n)\n",
    "pc = pca.fit_transform(X_train_e_l_n)\n",
    "df_pc = pd.DataFrame(pc, columns=columns, index=X_train_e_l_n.index)\n",
    "df_pc.head()"
   ]
  },
  {
   "cell_type": "code",
   "execution_count": null,
   "id": "5186af85-828e-4fe8-9dff-7541f060d699",
   "metadata": {},
   "outputs": [],
   "source": [
    "pca.explained_variance_ratio_"
   ]
  },
  {
   "cell_type": "code",
   "execution_count": null,
   "id": "ebce04cf-d4ea-4730-ab41-a4587640f666",
   "metadata": {},
   "outputs": [],
   "source": [
    "# PCA df which store PCA componenets and corresponding y\n",
    "df_PCA = pd.concat([df_pc, y_train], axis=1)\n",
    "df_PCA.head()"
   ]
  },
  {
   "cell_type": "code",
   "execution_count": null,
   "id": "f997bf41-7ee3-4273-85e7-acc61f60a3c4",
   "metadata": {},
   "outputs": [],
   "source": [
    "targets = [0, 1]\n",
    "colors = ['orange', 'blue']\n",
    "\n",
    "fig, ax = plt.subplots(figsize=(8,8))\n",
    "\n",
    "\n",
    "# For loop to create plot\n",
    "for target, color in zip(targets,colors):\n",
    "    indicesToKeep = df_PCA['not_fully_paid'] == target\n",
    "    ax.scatter(df_PCA.loc[indicesToKeep, 'PCA_1']\n",
    "               , df_PCA.loc[indicesToKeep, 'PCA_2']\n",
    "               , c = color\n",
    "               , s = 50\n",
    "              , alpha =0.2)\n",
    "\n",
    "# Legend    \n",
    "ax.legend(targets)\n",
    "ax.grid()\n",
    "plt.show()"
   ]
  },
  {
   "cell_type": "markdown",
   "id": "19c60228-aba3-45c1-8f92-acfce6eb96fc",
   "metadata": {},
   "source": [
    "From the PCA plot, we can see distinct clusters between loans fully paid (orange) vs loans which are not (blue).      \n",
    "We will study next the number of features required to explain the variance in the dataset to gain an intuition of the number of features required for our modelling purpose.  "
   ]
  },
  {
   "cell_type": "code",
   "execution_count": null,
   "id": "39325beb-8343-4baa-a64d-52b504ebbba2",
   "metadata": {},
   "outputs": [],
   "source": [
    "# Instantiate\n",
    "pca = PCA(n_components=n)\n",
    "\n",
    "# Fit and transform\n",
    "principalComponents = pca.fit_transform(X_train_e_l_n)\n",
    "\n",
    "# List principal components names\n",
    "principal_components =columns\n",
    "\n",
    "# Create a DataFrame\n",
    "pca_df = pd.DataFrame({'Variance Explained': pca.explained_variance_ratio_,\n",
    "             'PC':principal_components})\n",
    "\n",
    "plt.figure(figsize=(8, 8))\n",
    "plt.title('PCA - explained variance ratio')\n",
    "# Plot DataFrame\n",
    "sns.barplot(x='PC',y='Variance Explained', \n",
    "           data=pca_df, color=\"c\")\n",
    "plt.xticks(rotation=45)\n",
    "plt.show()"
   ]
  },
  {
   "cell_type": "code",
   "execution_count": null,
   "id": "b279621c-648b-42ec-af94-ff1a112044c6",
   "metadata": {},
   "outputs": [],
   "source": [
    "plt.figure(figsize=(8, 8))\n",
    "# Instantiate, fit and transform\n",
    "#pca2 = PCA()\n",
    "#principalComponents2 = pca2.fit_transform(X_train_valid_e_n_up)\n",
    "\n",
    "# Assign variance explained\n",
    "var = pca.explained_variance_ratio_\n",
    "\n",
    "# Plot cumulative variance\n",
    "cumulative_var = np.cumsum(var)*100\n",
    "plt.plot(cumulative_var,'k-o',markerfacecolor='None',markeredgecolor='k')\n",
    "plt.title('Principal Component Analysis \\n Cumulative Proportion of Variance Explained',fontsize=12)\n",
    "plt.xlabel(\"Principal Component\",fontsize=12)\n",
    "plt.ylabel(\"Cumulative Proportion of Variance \",fontsize=12)\n",
    "plt.show()"
   ]
  },
  {
   "cell_type": "markdown",
   "id": "fe48a3e4-9a84-4d85-ade1-25d2fe32533f",
   "metadata": {},
   "source": [
    "From the plots above, we see that approximately 12 features are needed to explain 90% of the variance in the dataset.    \n",
    "This gives us a good intuition of the number of features required in our model.   \n",
    "\n",
    "Next, We will next use RFE to which are the important features for modelling.   "
   ]
  },
  {
   "cell_type": "markdown",
   "id": "403b1121-2a80-44ff-8608-f9f93f1f40fa",
   "metadata": {},
   "source": [
    "### 4.2 Feature importance - Recursive feature elimination   \n",
    "\n",
    "To better understand the features to use in our model, we will rank all features according to feature importance.     \n",
    "Thereafter, we select the final features via RFE using steps below. \n",
    "1.\tUse Recursive feature elimination(RFE)  with Logistic regression as the model to select the most important features \n",
    "2.\tRepeat step 1 but use Random Forest and Gradient boosting as the models instead\n",
    "3.\tFinally, select only features which has been voted by at least 2 models as important features\n"
   ]
  },
  {
   "cell_type": "code",
   "execution_count": null,
   "id": "19780ca3-71b5-4ef2-aade-d3f8ad8276a4",
   "metadata": {},
   "outputs": [],
   "source": [
    "# Function to find lowest C and plot the result\n",
    "def lowest_err(model, C_values, train_errs, valid_errs):\n",
    "    \n",
    "    # Print lowest valid err \n",
    "    C_values_df = pd.DataFrame(C_values)\n",
    "    valid_errs_df = pd.DataFrame(valid_errs)\n",
    "    min_err = min(valid_errs_df[0])\n",
    "    min_idx = valid_errs_df[0].idxmin(axis = 1)\n",
    "    min_C = C_values_df.loc[min_idx, 0]\n",
    "    print(f'Min validation error ({model})  occur at C={round(min_C, 5)} and error = {round(min_err,5)}')\n",
    "\n",
    "    # Plot results\n",
    "    plt.figure(figsize=(8,5))\n",
    "    plt.semilogx(C_values, train_errs, C_values, valid_errs)\n",
    "    plt.annotate(f'Min error occur at Hyper-param ={round(min_C, 5)} and error = {round(min_err,5)}', xy=(min_C, min_err),fontsize=12,arrowprops=dict(facecolor='red', shrink=0.5),)\n",
    "    plt.legend((\"train\", \"validation\"))\n",
    "    plt.title(model)\n",
    "    plt.xlabel('Hyper-parameter')\n",
    "    plt.ylabel('Error')\n",
    "    plt.show()\n",
    "    \n",
    "    # Return\n",
    "    return {'Model':model, 'Best hyperparam': min_C}"
   ]
  },
  {
   "cell_type": "markdown",
   "id": "7093b540-f633-4366-94fe-c7737d1f43db",
   "metadata": {},
   "source": [
    "Before performing RFE, we first quickly select the best hyper-params to use for logistic regression, random forest, and gradient boosting."
   ]
  },
  {
   "cell_type": "markdown",
   "id": "78ab5f63-9589-4e87-a81d-570b29c4840d",
   "metadata": {},
   "source": [
    "### a. Logistic regression"
   ]
  },
  {
   "cell_type": "code",
   "execution_count": null,
   "id": "c5bdab1d-9a2a-4501-97c1-446ec9731b90",
   "metadata": {},
   "outputs": [],
   "source": [
    "min_C = list()"
   ]
  },
  {
   "cell_type": "code",
   "execution_count": null,
   "id": "14ef4de0-0cc7-4664-a0de-cae34a08a93a",
   "metadata": {},
   "outputs": [],
   "source": [
    "# Train and validaton errors initialized as empty list\n",
    "train_errs = list()\n",
    "valid_errs = list()\n",
    "C_values = np.logspace(-6, -2, 21)\n",
    "\n",
    "# Loop over values of C_value\n",
    "for C_value in C_values:\n",
    "    # Create LogisticRegression object and fit\n",
    "    clf = LogisticRegression(C=C_value)\n",
    "    clf.fit(X_train_e_l_n_up, y_train_up)\n",
    "    \n",
    "    # Evaluate error rates and append to lists\n",
    "    train_errs.append( 1.0 - clf.score(X_train_e_l_n_up, y_train_up) )\n",
    "    valid_errs.append( 1.0 - clf.score(X_valid_e_l_n_up, y_valid_up) )"
   ]
  },
  {
   "cell_type": "code",
   "execution_count": null,
   "id": "b3167980-773d-44e6-9f10-3db42f810339",
   "metadata": {},
   "outputs": [],
   "source": [
    "# Plot and find min C\n",
    "min_C.append( lowest_err('Logistic regression', C_values, train_errs, valid_errs) )"
   ]
  },
  {
   "cell_type": "markdown",
   "id": "39615776-8228-4ab3-9122-0dbaa970764b",
   "metadata": {},
   "source": [
    "### b. Gradient boosting"
   ]
  },
  {
   "cell_type": "code",
   "execution_count": null,
   "id": "8568f2d4-8422-4585-af89-0201d61115cf",
   "metadata": {},
   "outputs": [],
   "source": [
    "# Train and validaton errors initialized as empty list\n",
    "train_errs = list()\n",
    "valid_errs = list()\n",
    "C_values = [int(x) for x in np.linspace(1, 900, 21)]\n",
    "\n",
    "# Loop over values of C_value\n",
    "for C_value in C_values:\n",
    "    # Create LogisticRegression object and fit\n",
    "    clf = GradientBoostingClassifier(n_estimators=C_value)\n",
    "    clf.fit(X_train_e_l_n_up, y_train_up)\n",
    "    \n",
    "    # Evaluate error rates and append to lists\n",
    "    train_errs.append( 1.0 - clf.score(X_train_e_l_n_up, y_train_up) )\n",
    "    valid_errs.append( 1.0 - clf.score(X_valid_e_l_n_up, y_valid_up) )"
   ]
  },
  {
   "cell_type": "code",
   "execution_count": null,
   "id": "cf370062-66c4-4570-a0ad-29eea977a7ff",
   "metadata": {},
   "outputs": [],
   "source": [
    "# Plot and find min C\n",
    "min_C.append( lowest_err('Gradient boosting', C_values, train_errs, valid_errs) )"
   ]
  },
  {
   "cell_type": "markdown",
   "id": "20c78da2-bafa-466e-aedc-2962796ee776",
   "metadata": {},
   "source": [
    "### c. Random forest"
   ]
  },
  {
   "cell_type": "code",
   "execution_count": null,
   "id": "9391ef77-684b-4ee1-a172-5b015a7d6fd1",
   "metadata": {},
   "outputs": [],
   "source": [
    "# Train and validaton errors initialized as empty list\n",
    "train_errs = list()\n",
    "valid_errs = list()\n",
    "C_values = [int(x) for x in np.linspace(1, 900, 21)]\n",
    "\n",
    "# Loop over values of C_value\n",
    "for C_value in C_values:\n",
    "    # Create LogisticRegression object and fit\n",
    "    clf = RandomForestClassifier(n_estimators=C_value,random_state=0)\n",
    "    clf.fit(X_train_e_l_n_up, y_train_up)\n",
    "    \n",
    "    # Evaluate error rates and append to lists\n",
    "    train_errs.append( 1.0 - clf.score(X_train_e_l_n_up, y_train_up) )\n",
    "    valid_errs.append( 1.0 - clf.score(X_valid_e_l_n_up, y_valid_up) )"
   ]
  },
  {
   "cell_type": "code",
   "execution_count": null,
   "id": "773954ac-ef2c-4877-a02b-a86fb54ea89b",
   "metadata": {},
   "outputs": [],
   "source": [
    "# Plot and find min C\n",
    "min_C.append( lowest_err('Random Forest', C_values, train_errs, valid_errs) )"
   ]
  },
  {
   "cell_type": "code",
   "execution_count": null,
   "id": "7126eb83-fdb8-4777-a316-5a1ab20a85eb",
   "metadata": {},
   "outputs": [],
   "source": [
    "# Print min C\n",
    "min_C = pd.DataFrame(min_C)\n",
    "min_C.set_index('Model', inplace=True)\n",
    "min_C"
   ]
  },
  {
   "cell_type": "markdown",
   "id": "41597c28-0061-46ee-8f30-dd3380cbc8f4",
   "metadata": {},
   "source": [
    "Based on the above best hyper-params, we then run RFE to select the 12 most relevant features for each model. "
   ]
  },
  {
   "cell_type": "code",
   "execution_count": null,
   "id": "9f0cdc4a-3eab-40b6-91a7-a8ce7e870bc8",
   "metadata": {},
   "outputs": [],
   "source": [
    "# Refit model with both train and valid data\n",
    "X_train_valid_e_l_n_up = pd.concat([X_train_e_l_n_up, X_valid_e_l_n_up], axis=0)\n",
    "X_train_valid_e_l_n_up.tail()"
   ]
  },
  {
   "cell_type": "code",
   "execution_count": null,
   "id": "35f0f13d-59d2-4d3c-90d9-fb90711ec2d2",
   "metadata": {},
   "outputs": [],
   "source": [
    "y_train_valid_e_l_n_up = pd.concat([y_train_up,y_valid_up], axis=0)\n",
    "y_train_valid_e_l_n_up.tail()"
   ]
  },
  {
   "cell_type": "code",
   "execution_count": null,
   "id": "296aa2db-b34b-4cfd-b96a-445bb2178c81",
   "metadata": {},
   "outputs": [],
   "source": [
    "# Set RFE params\n",
    "n_features_to_select = 12\n",
    "step = 1"
   ]
  },
  {
   "cell_type": "code",
   "execution_count": null,
   "id": "b977ed2f-751c-4928-9fe2-028da4636fbe",
   "metadata": {},
   "outputs": [],
   "source": [
    "# RFE with Logistic regression\n",
    "rfe_lg = RFE(estimator=LogisticRegression(C=min_C.loc['Logistic regression', 'Best hyperparam']), \n",
    "             n_features_to_select=n_features_to_select, step=step, verbose=1)\n",
    "rfe_lg.fit(X_train_valid_e_l_n_up, y_train_valid_e_l_n_up)\n",
    "# Calculate the score on the test set\n",
    "#score = rfe_lg.score(X_test_e_l_n, y_test)\n",
    "score = rfe_lg.score(X_test_e_l_n_up, y_test_up)\n",
    "print('Logistic regression can explain {0:.1%} of the variance in the test set'.format(score))\n",
    "# Assign the support array to mask\n",
    "lg_mask = rfe_lg.support_"
   ]
  },
  {
   "cell_type": "code",
   "execution_count": null,
   "id": "8d8ce2b3-c8c5-44c2-9f83-2328559e85b5",
   "metadata": {},
   "outputs": [],
   "source": [
    "# RFE with Gradient boosting \n",
    "\n",
    "# Select 10 features with RFE on a GradientBoostingClassifier, drop 1 features on each step\n",
    "rfe_gb = RFE(estimator=GradientBoostingClassifier(n_estimators=int(min_C.loc['Gradient boosting', 'Best hyperparam']), random_state=0), \n",
    "             n_features_to_select=n_features_to_select, step=step, verbose=1)\n",
    "rfe_gb.fit(X_train_valid_e_l_n_up, y_train_valid_e_l_n_up)\n",
    "# Calculate the score on the test set\n",
    "#score = rfe_gb.score(X_test_e_l_n, y_test)\n",
    "score = rfe_gb.score(X_test_e_l_n_up, y_test_up)\n",
    "print('Gradient boosting can explain {0:.1%} of the variance in the test set'.format(score))\n",
    "# Assign the support array to mask\n",
    "gb_mask = rfe_gb.support_"
   ]
  },
  {
   "cell_type": "code",
   "execution_count": null,
   "id": "d9c65bc5-5b77-40df-a8e0-080df103d961",
   "metadata": {},
   "outputs": [],
   "source": [
    "# RFE with RandomForestClassifier\n",
    "rfe_rf = RFE(estimator=RandomForestClassifier(n_estimators=int(min_C.loc['Random Forest', 'Best hyperparam']), random_state=0), \n",
    "             n_features_to_select=n_features_to_select, step=step, verbose=1)\n",
    "rfe_rf.fit(X_train_valid_e_l_n_up, y_train_valid_e_l_n_up)\n",
    "# Calculate the score on the test set\n",
    "#score = rfe_rf.score(X_test_e_l_n_up, y_test_up)\n",
    "#score = rfe_rf.score(X_test_e_l_n, y_test)\n",
    "score = rfe_rf.score(X_test_e_l_n_up, y_test_up)\n",
    "print('Random Forest can explain {0:.1%} of the variance in the test set'.format(score))\n",
    "# Assign the support array to mask\n",
    "rf_mask = rfe_rf.support_"
   ]
  },
  {
   "cell_type": "code",
   "execution_count": null,
   "id": "19582ffa-1e56-47b2-8395-57c2510d08d2",
   "metadata": {},
   "outputs": [],
   "source": [
    "# Sum the votes of the three models\n",
    "votes = np.sum([lg_mask, rf_mask, gb_mask], axis=0)\n",
    "# Create a mask for features selected by all 3 models\n",
    "meta_mask = votes >= 2\n",
    "print('The following features are selected by >= 2 models:')\n",
    "X_train_valid_e_l_n_up.loc[:, meta_mask].columns"
   ]
  },
  {
   "cell_type": "code",
   "execution_count": null,
   "id": "b6b3055f-a62d-46b2-aabf-b224c9052ac5",
   "metadata": {},
   "outputs": [],
   "source": [
    "# Apply dimensionality reduction on X\n",
    "X_train_mask = X_train_valid_e_l_n_up.loc[:, meta_mask]\n",
    "X_test_mask = X_test_e_l_n.loc[:, meta_mask]\n",
    "X_train_mask.head()"
   ]
  },
  {
   "cell_type": "code",
   "execution_count": null,
   "id": "428d6d18-1bbf-4cc0-90b3-76884d8ed2f6",
   "metadata": {},
   "outputs": [],
   "source": [
    "# Perform random forest\n",
    "rf = RandomForestClassifier(n_estimators=int(min_C.loc['Random Forest', 'Best hyperparam']), random_state=0)\n",
    "rf.fit(X_train_mask, y_train_valid_e_l_n_up)\n",
    "score = rf.score(X_test_mask, y_test)\n",
    "print('Random forest (dimension reduced) can explain {0:.1%} of the variance in the test set.'.format(score))\n",
    "# Predict the labels of the test data: y_pred\n",
    "y_pred = rf.predict(X_test_mask)\n",
    "# Generate the confusion matrix and classification report\n",
    "print(confusion_matrix(y_test, y_pred))\n",
    "print(classification_report(y_test, y_pred))"
   ]
  },
  {
   "cell_type": "code",
   "execution_count": null,
   "id": "bd1491c5-4c7d-4dfc-bb76-2358e9c853d4",
   "metadata": {},
   "outputs": [],
   "source": [
    "# Perform gradient boosting\n",
    "gb = GradientBoostingClassifier(n_estimators=int(min_C.loc['Gradient boosting', 'Best hyperparam']), random_state=0)\n",
    "gb.fit(X_train_mask, y_train_valid_e_l_n_up)\n",
    "score = gb.score(X_test_mask, y_test)\n",
    "print('Gradient boosting (dimension reduced) can explain {0:.1%} of the variance in the test set.'.format(score))\n",
    "# Predict the labels of the test data: y_pred\n",
    "y_pred = gb.predict(X_test_mask)\n",
    "# Generate the confusion matrix and classification report\n",
    "print(confusion_matrix(y_test, y_pred))\n",
    "print(classification_report(y_test, y_pred))"
   ]
  },
  {
   "cell_type": "code",
   "execution_count": null,
   "id": "e8277f4f-fe95-4567-b643-c72406743519",
   "metadata": {},
   "outputs": [],
   "source": [
    "# Retrieve feature importance from the tree-based models\n",
    "col_names = X_test_mask.columns\n",
    "model_rank = list()\n",
    "def model_impt(model, label):\n",
    "    tmp = dict()\n",
    "    importances = model.feature_importances_\n",
    "    indices = np.argsort(importances)[::-1]\n",
    "    #print(importances)\n",
    "    # Print the feature ranking\n",
    "    print(f\"Feature ranking ({label}):\")\n",
    "    tmp['Model'] = label\n",
    "    for f in range(len(indices)):\n",
    "        print(\"%d. %s (%f)\" % (f + 1, col_names[indices[f]], importances[indices[f]]))\n",
    "        tmp[col_names[indices[f]]] = importances[indices[f]]\n",
    "    print (' ')\n",
    "    return tmp"
   ]
  },
  {
   "cell_type": "code",
   "execution_count": null,
   "id": "80c166eb-4bcb-4859-9e30-be9e866cfc19",
   "metadata": {},
   "outputs": [],
   "source": [
    "# Random forest\n",
    "model_rank.append( model_impt(rf, 'Random forest'))\n",
    "# Gradient boosting\n",
    "model_rank.append( model_impt(gb, 'Gradient boosting'))"
   ]
  },
  {
   "cell_type": "code",
   "execution_count": null,
   "id": "523e600a-3eb6-480d-b332-bda0c936a4ec",
   "metadata": {},
   "outputs": [],
   "source": [
    "# Print min C\n",
    "model_rank = pd.DataFrame(model_rank)\n",
    "model_rank.set_index('Model', inplace=True)\n",
    "model_rank"
   ]
  },
  {
   "cell_type": "code",
   "execution_count": null,
   "id": "ff487ecb-f1e9-47d8-8ba7-c300b95f66aa",
   "metadata": {},
   "outputs": [],
   "source": [
    "# Correlation of numerical attributes\n",
    "plt.figure(figsize=(10, 2))\n",
    "plt.title('Feature importance')\n",
    "sns.heatmap(model_rank, annot=True, fmt='.2f', cmap='RdYlGn')\n",
    "plt.yticks(rotation=360)\n",
    "plt.show()"
   ]
  },
  {
   "cell_type": "markdown",
   "id": "b718af90-b4ba-45c8-92f0-cf8e6ad2e1fa",
   "metadata": {},
   "source": [
    "Although feature importance ranking differs between Random Forest vs Gradient boosting, we see close resemblance with previous EDA observations where loans not fully paid is largely correlated to interest rate, number of inquiries by creditors in the last 6 months, revolving balance, credit policy and FICO.  "
   ]
  },
  {
   "cell_type": "code",
   "execution_count": null,
   "id": "1012045f-c908-441b-9b4b-df706cbb7feb",
   "metadata": {},
   "outputs": [],
   "source": [
    "# Partial plot\n",
    "fig, ax = plt.subplots(figsize=(20, 30))\n",
    "ax.set_title(\"Random forest Model - Partial plot\")\n",
    "#tree_disp = plot_partial_dependence(rfe_rf, X_train, list(range(0, 18)), ax=ax)\n",
    "# tree_disp = plot_partial_dependence(rf, X_train_mask, list(range(0, 11)), ax=ax)"
   ]
  },
  {
   "cell_type": "markdown",
   "id": "500d2cee-447f-40a7-9d6e-274991559326",
   "metadata": {},
   "source": [
    "From the plots, we see once again that loans with high interest rates, high FICO score and client with large number of inquiries tend to have higher loans unpaid. \n",
    "\n",
    "This aligns with our real life understanding where clients with bad credit scoring are generally charged higher interest rate so that the lender can better protect itself from potential defaults. Moreover, clients with bad credit scoring might also be actively seeking credit lines, thus the large number of inquiries into their accounts.\n"
   ]
  },
  {
   "cell_type": "code",
   "execution_count": null,
   "id": "df6d23a2-3c36-4994-9a73-092295a67158",
   "metadata": {},
   "outputs": [],
   "source": [
    "# Correlation of numerical attributes\n",
    "plt.figure(figsize=(8, 8))\n",
    "plt.title('Correlation of important features')\n",
    "sns.heatmap(X_train_mask.corr(), annot=True, fmt='.2f', cmap='RdYlGn')\n",
    "plt.show()"
   ]
  },
  {
   "cell_type": "markdown",
   "id": "092f9e37-cff9-4618-b4cd-f66a453581bb",
   "metadata": {},
   "source": [
    "Based on the above, we see that none of the selected features exhibit multi-collinearity.   "
   ]
  },
  {
   "cell_type": "code",
   "execution_count": 124,
   "id": "0165f0fc-b47a-4b27-85e1-6eecac8932f2",
   "metadata": {},
   "outputs": [],
   "source": [
    "# Define list to store result \n",
    "final_result = list()\n",
    "# Define list to store result \n",
    "final_model = list()\n",
    "def model_run(model, clf, X=X_test, y=y_test):\n",
    "\n",
    "    # Evaluate error rates and append to lists\n",
    "    y_test_predict = clf.predict(X)\n",
    "    auc = roc_auc_score(y, y_test_predict)\n",
    "    precision =precision_score(y, y_test_predict)\n",
    "    recall = recall_score(y, y_test_predict)\n",
    "    accuracy = clf.score(X, y)\n",
    "\n",
    "    # Print classification report\n",
    "    print(f'== {model} - Classification report ==')\n",
    "    print(classification_report(y, y_test_predict))\n",
    "    \n",
    "    # Plot confusion matrix\n",
    "    class_names=[0,1] # name  of classes\n",
    "    fig, ax = plt.subplots()\n",
    "    tick_marks = np.arange(len(class_names))\n",
    "    plt.xticks(tick_marks, class_names)\n",
    "    plt.yticks(tick_marks, class_names)\n",
    "    # create heatmap\n",
    "    sns.heatmap(pd.DataFrame(confusion_matrix(y, y_test_predict)), annot=True, cmap=\"YlGnBu\" ,fmt='g')\n",
    "    ax.xaxis.set_label_position(\"top\")\n",
    "    plt.tight_layout()\n",
    "    plt.title(f'{model}- Confusion matrix', y=1.1)\n",
    "    plt.ylabel('Actual label')\n",
    "    plt.xlabel('Predicted label')   \n",
    "    plt.show()\n",
    "    \n",
    "    # Plot ROC curve\n",
    "    # Compute predicted probabilities: y_pred_prob\n",
    "    y_pred_prob = clf.predict_proba(X)[:,1]\n",
    "    # Generate ROC curve values: fpr, tpr, thresholds\n",
    "    fpr, tpr, thresholds= roc_curve(y_test, y_pred_prob)\n",
    "    # Plot ROC curve\n",
    "    plt.plot([0, 1], [0, 1], 'k--', label='Random classifier')\n",
    "    plt.plot(fpr, tpr, marker='.', label=model)\n",
    "    plt.xlabel('False Positive Rate')\n",
    "    plt.ylabel('True Positive Rate')\n",
    "    plt.title(f'{model} - ROC curve')\n",
    "    plt.annotate(f'AUC ={round(auc, 5)} ', xy=(0.7, 0.5),fontsize=12,)\n",
    "    # show the legend\n",
    "    plt.legend()    \n",
    "    plt.show()\n",
    "    \n",
    "    # Plot precision recall curve\n",
    "    precision_, recall_, _ = precision_recall_curve(y_test, y_pred_prob)\n",
    "    # Random classifier is one which randomly predicts a class and is the ratio of the ones in the dataset\n",
    "    random_clf = y_test[y_test==1].count() / len(y_test) #len(y_test[y_test==1]) / len(y_test)\n",
    "    plt.plot([0, 1], [random_clf, random_clf], linestyle='--', label='Average precision')\n",
    "    plt.plot(recall_, precision_, marker='.', label=model)\n",
    "    # axis labels\n",
    "    plt.xlabel('Recall')\n",
    "    plt.ylabel('Precision')\n",
    "    plt.title(f'{model} - Precision recall curve')\n",
    "    # show the legend\n",
    "    plt.legend()\n",
    "    # show the plot\n",
    "    plt.show()\n",
    "\n",
    "    return {'Model':model, \\\n",
    "            'Accuracy': round(accuracy,5) , \\\n",
    "            'Precision':round(precision,5) , \\\n",
    "            'Recall':round(recall,5), \\\n",
    "            'AUC':round(auc,5)}"
   ]
  },
  {
   "cell_type": "markdown",
   "id": "7318808c-5f5b-4429-a2cb-6411e6cee694",
   "metadata": {},
   "source": [
    "### 5. Modelling   \n",
    "\n",
    "To improve model’s prediction capability and to overcome common problems associated with imbalanced dataset, various techniques are researched. We shortlisted the proposed improvements in the section below.      \n",
    "1.\tK-fold cross validation    \n",
    "Up-sampling is usually done during model training to overcome imbalance class. However, up-sampling can cause overfitting. Thus, k-fold cross validation will be used because this method is more superior than the simple train/test split to prevent overfitting. In addition, K=5 is chosen because empirical data showed that this value produces lower error rate and has a balanced bias vs variance (An Introduction to Statistical Learning, 2017).         \n",
    "2.\tStratification   \n",
    "Due to class imbalance, for k-fold cross validation, we might end up with folds which has no representation from the minority class (Jason Brownlee, 2020). Hence, stratification will be applied to ensure that the original class distribution is maintained in each fold.    \n",
    "3.\tSMOTE method     \n",
    "If up-sampling is done before cross validation, we risk data leak traps since the same up-sampled data might appear in both the training and validation folds. Hence, SMOTE method will be used to segregate the data into its respective folds before up-sampling is done in each fold. SMOTE is selected because of its low chances of overfitting and information loss. (Nitesh, 2002)    \n",
    "4.\tLog transformation and Data scaling   \n",
    "Features in our dataset are skewed and have high variance. Such high variance will negatively impact the accuracy of the model. Thus, log transformation is done to reduce features’ variance. For features with minimum value of zero, 1 is added before taking log to prevent infinity values. Thereafter, Z-score normalization is done so that features are compared on a similar scale.    \n",
    "5.\tHyper-parameter tunning    \n",
    "Hyper-parameters must be tuned to overcome bias-variance trade off in the models.   \n",
    "For example, in Random Forest, when the number of trees is low at the extreme left, underfitting results in high bias, thus high errors. As number of trees is increased towards the right side of the graph, overfitting sets in, resulting in low training error but increasing validation error. Thus, hyper-parameters must be fine-tuned to select the best param which prevent overfitting and underfitting. \n",
    "The hyper-parameters will be fine-tunned using GridSearchCV. \n",
    "\n",
    "\n"
   ]
  },
  {
   "cell_type": "markdown",
   "id": "f421d2b8-4c0e-4684-a714-a2bfec79e177",
   "metadata": {},
   "source": [
    "### 5.1 Logistic regression (with feature selection)    \n",
    "Based on the features selected in the feature selection selection, we now run the logistic regression model to see if performance has improved."
   ]
  },
  {
   "cell_type": "code",
   "execution_count": 125,
   "id": "eb0ed2ef-2f09-4e76-aadc-20f52d95c9a4",
   "metadata": {},
   "outputs": [
    {
     "name": "stdout",
     "output_type": "stream",
     "text": [
      "== Logistic regression (feature selected) - Classification report ==\n",
      "              precision    recall  f1-score   support\n",
      "\n",
      "           0       0.84      1.00      0.91      1615\n",
      "           1       0.43      0.02      0.04       301\n",
      "\n",
      "    accuracy                           0.84      1916\n",
      "   macro avg       0.64      0.51      0.48      1916\n",
      "weighted avg       0.78      0.84      0.78      1916\n",
      "\n"
     ]
    },
    {
     "data": {
      "image/png": "[encoded data removed]",
      "text/plain": [
       "<Figure size 640x480 with 2 Axes>"
      ]
     },
     "metadata": {},
     "output_type": "display_data"
    },
    {
     "data": {
      "image/png": "[encoded data removed]",
      "text/plain": [
       "<Figure size 640x480 with 1 Axes>"
      ]
     },
     "metadata": {},
     "output_type": "display_data"
    },
    {
     "data": {
      "image/png": "[encoded data removed]",
      "text/plain": [
       "<Figure size 640x480 with 1 Axes>"
      ]
     },
     "metadata": {},
     "output_type": "display_data"
    }
   ],
   "source": [
    "# Logistic regression v1 (baseline)\n",
    "clf = LogisticRegression()\n",
    "clf.fit(X_train_e_l_n, y_train)\n",
    "final_model.append(model_run('Logistic regression (feature selected)', clf, X=X_test_e_l_n, y=y_test))"
   ]
  },
  {
   "cell_type": "markdown",
   "id": "83af1f12-6d27-4b19-8520-4d7a804dee8e",
   "metadata": {},
   "source": [
    "### 5.2 Logistic regression (improved)    \n",
    "Next, we apply further improvements (k-fold cross validation to improve overfitting, SMOTE to overcome imbalance class, stratification to prevent data leaks during cross validation) to better the performance of the basic logistic regression.\n"
   ]
  },
  {
   "cell_type": "code",
   "execution_count": null,
   "id": "3932e905-4b56-4b55-90c1-ff0abd1a9893",
   "metadata": {},
   "outputs": [],
   "source": [
    "# Initialise kfold\n",
    "kf = KFold(n_splits=5, random_state=42, shuffle=True)\n",
    "def best_param_search(model, pipe, new_params,kf):\n",
    "    # Run search for best param\n",
    "\n",
    "    clf = GridSearchCV(pipe, param_grid=new_params, cv=kf, scoring='roc_auc',\n",
    "                            return_train_score=True)\n",
    "    # Fit to model with best hyper-param\n",
    "    clf.fit(X_train_e_l_n, y_train)\n",
    "    # Print best results\n",
    "    clf.cv_results_['mean_test_score'], clf.cv_results_['mean_train_score']\n",
    "    # Best score \n",
    "    clf.best_score_\n",
    "    # Best param\n",
    "    clf.best_params_\n",
    "    # Print test result\n",
    "    y_test_predict = clf.best_estimator_.predict(X_test_e_l_n)\n",
    "    score = roc_auc_score(y_test, y_test_predict)\n",
    "    \n",
    "    # Print all stats\n",
    "    # final_model.append(model_run(model, clf, X=X_test, y=y_test))\n",
    "\n",
    "    #return clf.best_params_, score \n",
    "    return clf, {'Model':model, 'Best hyperparam': clf.best_params_, 'AUC':round(score,5)}\n",
    "    #return {'Model':model, 'AUC':round(score,5)}"
   ]
  },
  {
   "cell_type": "markdown",
   "id": "cbe3e36d-9347-4642-a460-7bc456b2a65a",
   "metadata": {},
   "source": [
    "### 5.3 Random forest (improved)    \n",
    "Finally, we attempted the Random forest model (with k-fold cross validation to improve overfitting, SMOTE to overcome imbalance class, stratification to prevent data leaks during cross validation) to see if our model can be further improved. "
   ]
  },
  {
   "cell_type": "code",
   "execution_count": null,
   "id": "fcba1abe-78f7-48a8-adfc-fa063b929bf7",
   "metadata": {},
   "outputs": [],
   "source": [
    "### Logistic regression \n",
    "penalty = ['l1','l2','elasticnet','none']\n",
    "c_values = np.logspace(-7, 1, 10)\n",
    "# Define params\n",
    "params = {\n",
    "    'penalty': penalty,\n",
    "    'C': c_values,\n",
    "    'random_state': [0]\n",
    "}\n",
    "new_params = {'logisticregression__' + key: params[key] for key in params}\n",
    "\n",
    "# Create pipeline\n",
    "pipe = make_pipeline(SMOTE(random_state=42), \n",
    "                              LogisticRegression(penalty='l1' ,C=0, random_state=0))\n",
    "# Search for best param\n",
    "lr_clf, lr = best_param_search('Logistic Regression (improved)', pipe, new_params,kf)\n",
    "# Print result\n",
    "final_model.append(model_run('Logistic Regression (improved)', lr_clf, X=X_test_e_l_n, y=y_test))\n",
    "# Append result\n",
    "final_result.append(lr)\n",
    "final_result\n",
    "final_model"
   ]
  },
  {
   "cell_type": "code",
   "execution_count": null,
   "id": "ca4f91f8-e73d-416a-bc52-8b43a211e0b2",
   "metadata": {},
   "outputs": [],
   "source": [
    "### Random forest \n",
    "n_estimators = np.linspace(600,800, num=10)\n",
    "# Define rf params\n",
    "params = {\n",
    "    'n_estimators': [int(x) for x in n_estimators],\n",
    "    'max_depth': [5, 15, 20],\n",
    "    'random_state': [0]\n",
    "}\n",
    "new_params = {'randomforestclassifier__' + key: params[key] for key in params}\n",
    "# Create pipeline\n",
    "pipe = make_pipeline(SMOTE(random_state=42), \n",
    "                              RandomForestClassifier(n_estimators=375, random_state=0))\n",
    "# Search for best param\n",
    "rf_clf, rf = best_param_search('Random forest (improved)', pipe, new_params,kf)\n",
    "# Print result\n",
    "final_model.append(model_run('Random forest (improved)', rf_clf, X=X_test_e_l_n, y=y_test))\n",
    "\n",
    "# Append result\n",
    "final_result.append(rf)\n",
    "final_result\n",
    "final_model"
   ]
  },
  {
   "cell_type": "code",
   "execution_count": null,
   "id": "12d00254-44d6-4bb0-88e5-156f4f181bf7",
   "metadata": {},
   "outputs": [],
   "source": [
    "# Present result in table \n",
    "final_model_df = pd.DataFrame(final_model)\n",
    "final_model_df.set_index('Model', inplace=True)\n",
    "#final_model_df.head()"
   ]
  },
  {
   "cell_type": "code",
   "execution_count": null,
   "id": "ac923398-1203-44c7-8bb4-738a9ea87eb8",
   "metadata": {},
   "outputs": [],
   "source": [
    "# Print model label\n",
    "index = ['Model 1','Model 2','Model 3']\n",
    "conclusion = final_model_df.copy()\n",
    "conclusion['No.'] = index\n",
    "conclusion.reset_index(inplace=True)\n",
    "conclusion.set_index('No.',inplace=True)\n",
    "conclusion"
   ]
  },
  {
   "cell_type": "code",
   "execution_count": null,
   "id": "20bd3850-8d94-4c5a-8cd2-cb70694a4735",
   "metadata": {},
   "outputs": [],
   "source": [
    "# Rename col\n",
    "conclusion.rename(columns={'Model':'Description'}, inplace=True)\n",
    "#conclusion"
   ]
  },
  {
   "cell_type": "code",
   "execution_count": null,
   "id": "a52c0165-2f31-49b0-b21e-44eb580eb289",
   "metadata": {},
   "outputs": [],
   "source": [
    "conclusion"
   ]
  },
  {
   "cell_type": "markdown",
   "id": "0c5174e8-c47a-4a62-8b85-c2ba3ec9eabe",
   "metadata": {},
   "source": [
    "As discussed before, with Recall as the most important performance metric, we will select Model 2 - Logistic regression (improved) model as the final model.    \n"
   ]
  },
  {
   "cell_type": "markdown",
   "id": "b6740e82",
   "metadata": {},
   "source": [
    "### 6. Storing model"
   ]
  },
  {
   "cell_type": "code",
   "execution_count": 126,
   "id": "8b5d37ae",
   "metadata": {},
   "outputs": [],
   "source": [
    "# Save the model as a pickle in a file \n",
    "joblib.dump(clf, 'model.pkl') \n",
    "  \n",
    "# Load the model from the file \n",
    "lr_from_joblib = joblib.load('model.pkl') \n",
    "  \n",
    "# Use the loaded model to make predictions \n",
    "# knn_from_joblib.predict(X_test) "
   ]
  },
  {
   "cell_type": "markdown",
   "id": "0f1264f6-237f-4b10-be63-596cdd7956fd",
   "metadata": {},
   "source": [
    "### 7. Conclusion   \n",
    "\n",
    "In this exercise, we proved the hypothesis that with the client's loan history and credit records, the lender will be able to predict the chances of a non-full payment from the client's loan. Also, with further model improvement techniques such as feature selection, k-fold cross validation to improve overfitting, SMOTE to overcome imbalance class, stratification to prevent data leaks during cross validation, our Recall can be improved significantly to 62% from 2% for the Logistic regression model. \n",
    "\n",
    "Moving forward, we can also experiment with other more complex models e.g., neural network to improve the performance of our model.\n"
   ]
  }
 ],
 "metadata": {
  "colab": {
   "name": "Welcome to DataCamp Workspaces.ipynb",
   "provenance": []
  },
  "kernelspec": {
   "display_name": "Python 3 (ipykernel)",
   "language": "python",
   "name": "python3"
  },
  "language_info": {
   "codemirror_mode": {
    "name": "ipython",
    "version": 3
   },
   "file_extension": ".py",
   "mimetype": "text/x-python",
   "name": "python",
   "nbconvert_exporter": "python",
   "pygments_lexer": "ipython3",
   "version": "3.9.7"
  }
 },
 "nbformat": 4,
 "nbformat_minor": 5
}
